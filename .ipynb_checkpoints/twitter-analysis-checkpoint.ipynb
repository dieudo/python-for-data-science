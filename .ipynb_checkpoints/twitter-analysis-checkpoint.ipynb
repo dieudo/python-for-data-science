{
  "cells": [
    {
      "metadata": {
        "trusted": true
      },
      "cell_type": "code",
      "source": "!pip install tweepy",
      "execution_count": null,
      "outputs": []
    },
    {
      "metadata": {
        "trusted": true
      },
      "cell_type": "code",
      "source": "import tweepy\nfrom tweepy import Stream\nfrom tweepy import OAuthHandler\nfrom tweepy.streaming import StreamListener",
      "execution_count": null,
      "outputs": []
    },
    {
      "metadata": {
        "trusted": true
      },
      "cell_type": "code",
      "source": "# define the keys for API access\ncs_key = 'your-cs-key'\ncs_secret_key = 'your-cs-secret-key'\ntoken_key = 'your-token-key'\ntoken_secret_key = 'your-token-secret-key'",
      "execution_count": null,
      "outputs": []
    },
    {
      "metadata": {
        "trusted": true
      },
      "cell_type": "code",
      "source": "class listener(StreamListener):\n    def on_data(self,data):\n        with open('./data/fetched_tweets.txt','a') as tf:\n            tf.write(data)\n        return True\n    def on_error(self,status):\n        print(status)",
      "execution_count": null,
      "outputs": []
    },
    {
      "metadata": {
        "trusted": true
      },
      "cell_type": "code",
      "source": "auth = tweepy.OAuthHandler(cs_key, cs_secret_key)\nauth.set_access_token(token_key, token_secret_key)\napi = tweepy.API(auth,wait_on_rate_limit=True)",
      "execution_count": null,
      "outputs": []
    },
    {
      "metadata": {
        "trusted": true
      },
      "cell_type": "code",
      "source": "# define the auth and token process\nauth = OAuthHandler(cs_key,cs_secret_key)\nauth.set_access_token(token_key,token_secret_key)",
      "execution_count": null,
      "outputs": []
    },
    {
      "metadata": {
        "trusted": true
      },
      "cell_type": "code",
      "source": "twitter_stream = Stream(auth,listener())\ntwitter_stream.filter(track=[\"xiaomi\",\"motorola\",\"samsung\"])",
      "execution_count": null,
      "outputs": []
    },
    {
      "metadata": {
        "trusted": true
      },
      "cell_type": "code",
      "source": "import json\nimport pandas as pd\nimport matplotlib.pyplot as plt",
      "execution_count": null,
      "outputs": []
    },
    {
      "metadata": {
        "trusted": true
      },
      "cell_type": "code",
      "source": "tweets_data_path = './data/fetched_tweets.txt'\n\ntweets_data = []\ntweets_file = open(tweets_data_path, \"r\")\nfor line in tweets_file:\n    try:\n        tweet = json.loads(line)\n        tweets_data.append(tweet)\n    except:\n        continue",
      "execution_count": null,
      "outputs": []
    },
    {
      "metadata": {
        "trusted": true
      },
      "cell_type": "code",
      "source": "tweets_data[0]",
      "execution_count": null,
      "outputs": []
    },
    {
      "metadata": {
        "trusted": true
      },
      "cell_type": "code",
      "source": "print(len(tweets_data))",
      "execution_count": null,
      "outputs": []
    },
    {
      "metadata": {
        "trusted": true
      },
      "cell_type": "code",
      "source": "type(tweets_data)",
      "execution_count": null,
      "outputs": []
    },
    {
      "metadata": {
        "trusted": true
      },
      "cell_type": "code",
      "source": "tweets = pd.DataFrame()",
      "execution_count": null,
      "outputs": []
    },
    {
      "metadata": {
        "trusted": true
      },
      "cell_type": "code",
      "source": "tweets['text'] = pd.Series(map(lambda x:x['text'],tweets_data))\ntweets['lang'] = pd.Series(map(lambda tweet: tweet['lang'],tweets_data))\ntweets['location'] = pd.Series(map(lambda tweet: tweet['user']['location'] \n                                  if tweet['place'] != None else None, tweets_data))\ntweets['source'] = pd.Series(map(lambda x:x['source'],tweets_data))\ntweets['retweeted'] = pd.Series(map(lambda x:x['retweeted'],tweets_data))",
      "execution_count": null,
      "outputs": []
    },
    {
      "metadata": {
        "trusted": true
      },
      "cell_type": "code",
      "source": "tweets.head()",
      "execution_count": null,
      "outputs": []
    },
    {
      "metadata": {
        "trusted": true
      },
      "cell_type": "code",
      "source": "tweets_by_lang = tweets['lang'].value_counts()\n\nfig, ax = plt.subplots()\nax.tick_params(axis='x', labelsize=15)\nax.tick_params(axis='y', labelsize=10)\nax.set_xlabel('Languages', fontsize=15)\nax.set_ylabel('Number of tweets' , fontsize=15)\nax.set_title('Top 5 languages', fontsize=15, fontweight='bold')\ntweets_by_lang[:5].plot(ax=ax, kind='bar', color='red')",
      "execution_count": null,
      "outputs": []
    },
    {
      "metadata": {
        "trusted": true
      },
      "cell_type": "code",
      "source": "import re\n\ndef word_in_text(word, text):\n    word = word.lower()\n    text = text.lower()\n    match = re.search(word, text)\n    if match:\n        return True\n    return False",
      "execution_count": null,
      "outputs": []
    },
    {
      "metadata": {
        "trusted": true
      },
      "cell_type": "code",
      "source": "tweets['xiaomi'] = tweets['text'].apply(lambda tweet: word_in_text('xiaomi', tweet))\ntweets['motorola'] = tweets['text'].apply(lambda tweet: word_in_text('motorola', tweet))\ntweets['samsung'] = tweets['text'].apply(lambda tweet: word_in_text('samsung', tweet))",
      "execution_count": null,
      "outputs": []
    },
    {
      "metadata": {
        "trusted": true
      },
      "cell_type": "code",
      "source": "tweets.head()",
      "execution_count": null,
      "outputs": []
    },
    {
      "metadata": {
        "trusted": true
      },
      "cell_type": "code",
      "source": "print(tweets['xiaomi'].value_counts()[True])\nprint(tweets['motorola'].value_counts()[True])\nprint(tweets['samsung'].value_counts()[True])",
      "execution_count": null,
      "outputs": []
    },
    {
      "metadata": {
        "trusted": true
      },
      "cell_type": "code",
      "source": "phone_brands = ['xiaomi', 'motorola', 'samsung']\ntweets_by_phone_brands = [tweets['xiaomi'].value_counts()[True], \n                      tweets['motorola'].value_counts()[True], \n                      tweets['samsung'].value_counts()[True]]\n\nx_pos = list(range(len(phone_brands)))\nwidth = 0.8\nfig, ax = plt.subplots()\nplt.bar(x_pos, tweets_by_phone_brands, width, alpha=1, color='g')\n\n# Setting axis labels and ticks\nax.set_ylabel('Number of tweets', fontsize=15)\nax.set_title('Ranking: xiaomi vs. motorola vs. samsung (Raw data)', fontsize=10, fontweight='bold')\nax.set_xticks([p + 0.4 * width for p in x_pos])\nax.set_xticklabels(phone_brands)\nplt.grid()",
      "execution_count": null,
      "outputs": []
    }
  ],
  "metadata": {
    "kernelspec": {
      "name": "python3",
      "display_name": "Python 3",
      "language": "python"
    },
    "language_info": {
      "mimetype": "text/x-python",
      "nbconvert_exporter": "python",
      "name": "python",
      "file_extension": ".py",
      "version": "3.5.4",
      "pygments_lexer": "ipython3",
      "codemirror_mode": {
        "version": 3,
        "name": "ipython"
      }
    }
  },
  "nbformat": 4,
  "nbformat_minor": 2
}