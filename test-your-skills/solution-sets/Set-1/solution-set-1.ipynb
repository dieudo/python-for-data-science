{
  "cells": [
    {
      "metadata": {},
      "cell_type": "markdown",
      "source": "# Python data manipulation exercise - Airline performance analysis"
    },
    {
      "metadata": {},
      "cell_type": "markdown",
      "source": "## Problem\n\nAirlines are always run on tight schedules and very thin operating margins. To top this, the customers are extremely demanding expecting their flights to be on time always. Airline carriers try to overcome this challenge by detailed planning and prompt execution. However, there are factors like weather, technical glitches, unexpected challenges at airports which end up causing delay in arrival or departure of aircrafts. Since, the flights hop multiple cities any delay caused at one nodal city adds up and results in significant delays in subsequent stoppages if not taken care of early. \n\n## What is expected from you?\nYou have been provided with 3 datasets : \n1. airline-performance.csv\n2. air-carrier-details.csv\n3. airports.csv\n\nBelow are a set of questions of interest related to the problem statement at hand. Leverage your Python data wrangling skills to solve them"
    },
    {
      "metadata": {
        "trusted": true
      },
      "cell_type": "code",
      "source": "# Let us read the datasets first\nimport pandas as pd\nar_pf = pd.read_csv('airline-performance.csv')\nar_cr = pd.read_csv('air-carrier-details.csv')\narp = pd.read_csv('airports.csv')",
      "execution_count": 2,
      "outputs": []
    },
    {
      "metadata": {},
      "cell_type": "markdown",
      "source": "## Question : 1"
    },
    {
      "metadata": {},
      "cell_type": "markdown",
      "source": "* Which airline carrier is busiest in terms of volume?"
    },
    {
      "metadata": {
        "trusted": true
      },
      "cell_type": "code",
      "source": "# Let's first look at sample data in the dataframe ar_cr\nar_cr.head()",
      "execution_count": 24,
      "outputs": [
        {
          "output_type": "execute_result",
          "execution_count": 24,
          "data": {
            "text/html": "<div>\n<table border=\"1\" class=\"dataframe\">\n  <thead>\n    <tr style=\"text-align: right;\">\n      <th></th>\n      <th>Code</th>\n      <th>Description</th>\n    </tr>\n  </thead>\n  <tbody>\n    <tr>\n      <th>0</th>\n      <td>19031</td>\n      <td>Mackey International Inc.: MAC</td>\n    </tr>\n    <tr>\n      <th>1</th>\n      <td>19032</td>\n      <td>Munz Northern Airlines Inc.: XY</td>\n    </tr>\n    <tr>\n      <th>2</th>\n      <td>19033</td>\n      <td>Cochise Airlines Inc.: COC</td>\n    </tr>\n    <tr>\n      <th>3</th>\n      <td>19034</td>\n      <td>Golden Gate Airlines Inc.: GSA</td>\n    </tr>\n    <tr>\n      <th>4</th>\n      <td>19035</td>\n      <td>Aeromech Inc.: RZZ</td>\n    </tr>\n  </tbody>\n</table>\n</div>",
            "text/plain": "    Code                      Description\n0  19031   Mackey International Inc.: MAC\n1  19032  Munz Northern Airlines Inc.: XY\n2  19033       Cochise Airlines Inc.: COC\n3  19034   Golden Gate Airlines Inc.: GSA\n4  19035               Aeromech Inc.: RZZ"
          },
          "metadata": {}
        }
      ]
    },
    {
      "metadata": {
        "trusted": true
      },
      "cell_type": "code",
      "source": "# Looking at the data above, it seems the code which is required to join with the datasets ar_pf is a part of the Description column\n# We would need to extract the letters after the : symbol\n# This can be easily done by the below code\nar_cr[['airline_name','airline_code']] = ar_cr['Description'].str.split(':',expand = True)",
      "execution_count": 25,
      "outputs": []
    },
    {
      "metadata": {},
      "cell_type": "markdown",
      "source": "Have a look at the reference [here](https://www.geeksforgeeks.org/split-a-text-column-into-two-columns-in-pandas-dataframe/) to understand the above code"
    },
    {
      "metadata": {
        "trusted": true
      },
      "cell_type": "code",
      "source": "# Just for hygiene purposes we strip off all possible whitespaces from the code\nar_cr['airline_code'] = ar_cr['airline_code'].str.strip()",
      "execution_count": 26,
      "outputs": []
    },
    {
      "metadata": {
        "trusted": true,
        "scrolled": true
      },
      "cell_type": "code",
      "source": "# Let's now look how the dataframe looks like :\nar_cr.head()",
      "execution_count": 27,
      "outputs": [
        {
          "output_type": "execute_result",
          "execution_count": 27,
          "data": {
            "text/html": "<div>\n<table border=\"1\" class=\"dataframe\">\n  <thead>\n    <tr style=\"text-align: right;\">\n      <th></th>\n      <th>Code</th>\n      <th>Description</th>\n      <th>airline_name</th>\n      <th>airline_code</th>\n    </tr>\n  </thead>\n  <tbody>\n    <tr>\n      <th>0</th>\n      <td>19031</td>\n      <td>Mackey International Inc.: MAC</td>\n      <td>Mackey International Inc.</td>\n      <td>MAC</td>\n    </tr>\n    <tr>\n      <th>1</th>\n      <td>19032</td>\n      <td>Munz Northern Airlines Inc.: XY</td>\n      <td>Munz Northern Airlines Inc.</td>\n      <td>XY</td>\n    </tr>\n    <tr>\n      <th>2</th>\n      <td>19033</td>\n      <td>Cochise Airlines Inc.: COC</td>\n      <td>Cochise Airlines Inc.</td>\n      <td>COC</td>\n    </tr>\n    <tr>\n      <th>3</th>\n      <td>19034</td>\n      <td>Golden Gate Airlines Inc.: GSA</td>\n      <td>Golden Gate Airlines Inc.</td>\n      <td>GSA</td>\n    </tr>\n    <tr>\n      <th>4</th>\n      <td>19035</td>\n      <td>Aeromech Inc.: RZZ</td>\n      <td>Aeromech Inc.</td>\n      <td>RZZ</td>\n    </tr>\n  </tbody>\n</table>\n</div>",
            "text/plain": "    Code                      Description                 airline_name  \\\n0  19031   Mackey International Inc.: MAC    Mackey International Inc.   \n1  19032  Munz Northern Airlines Inc.: XY  Munz Northern Airlines Inc.   \n2  19033       Cochise Airlines Inc.: COC        Cochise Airlines Inc.   \n3  19034   Golden Gate Airlines Inc.: GSA    Golden Gate Airlines Inc.   \n4  19035               Aeromech Inc.: RZZ                Aeromech Inc.   \n\n  airline_code  \n0          MAC  \n1           XY  \n2          COC  \n3          GSA  \n4          RZZ  "
          },
          "metadata": {}
        }
      ]
    },
    {
      "metadata": {
        "trusted": true
      },
      "cell_type": "code",
      "source": "# Cool, now all that is left is joining with the ar_pf dataframe on UniqueCarrierCode column\ndfq1 = pd.merge(ar_pf,ar_cr,left_on='UniqueCarrierCode',right_on='airline_code',how='left')",
      "execution_count": 28,
      "outputs": []
    },
    {
      "metadata": {
        "trusted": true
      },
      "cell_type": "code",
      "source": "# Ok, merge is done. Let's see how the new dataframe looks like\ndfq1.loc[:0,]",
      "execution_count": 29,
      "outputs": [
        {
          "output_type": "execute_result",
          "execution_count": 29,
          "data": {
            "text/html": "<div>\n<table border=\"1\" class=\"dataframe\">\n  <thead>\n    <tr style=\"text-align: right;\">\n      <th></th>\n      <th>RowNo</th>\n      <th>Month</th>\n      <th>DayofMonth</th>\n      <th>DayOfWeek</th>\n      <th>DepTime</th>\n      <th>ShDepTime</th>\n      <th>ArrTime</th>\n      <th>ShArrTime</th>\n      <th>UniqueCarrierCode</th>\n      <th>UniqueCarrierName</th>\n      <th>...</th>\n      <th>Diverted</th>\n      <th>CarrierDelay</th>\n      <th>WeatherDelay</th>\n      <th>NASDelay</th>\n      <th>SecurityDelay</th>\n      <th>LateAircraftDelay</th>\n      <th>Code</th>\n      <th>Description</th>\n      <th>airline_name</th>\n      <th>airline_code</th>\n    </tr>\n  </thead>\n  <tbody>\n    <tr>\n      <th>0</th>\n      <td>1</td>\n      <td>9</td>\n      <td>16</td>\n      <td>2</td>\n      <td>1725.0</td>\n      <td>1730</td>\n      <td>1857.0</td>\n      <td>1909.0</td>\n      <td>CO</td>\n      <td>Continental Air Lines Inc.</td>\n      <td>...</td>\n      <td>0</td>\n      <td>NaN</td>\n      <td>NaN</td>\n      <td>NaN</td>\n      <td>NaN</td>\n      <td>NaN</td>\n      <td>19704.0</td>\n      <td>Continental Air Lines Inc.: CO</td>\n      <td>Continental Air Lines Inc.</td>\n      <td>CO</td>\n    </tr>\n  </tbody>\n</table>\n<p>1 rows × 36 columns</p>\n</div>",
            "text/plain": "   RowNo  Month  DayofMonth  DayOfWeek  DepTime  ShDepTime  ArrTime  \\\n0      1      9          16          2   1725.0       1730   1857.0   \n\n   ShArrTime UniqueCarrierCode           UniqueCarrierName     ...       \\\n0     1909.0                CO  Continental Air Lines Inc.     ...        \n\n   Diverted CarrierDelay  WeatherDelay  NASDelay  SecurityDelay  \\\n0         0          NaN           NaN       NaN            NaN   \n\n   LateAircraftDelay     Code                     Description  \\\n0                NaN  19704.0  Continental Air Lines Inc.: CO   \n\n                 airline_name airline_code  \n0  Continental Air Lines Inc.           CO  \n\n[1 rows x 36 columns]"
          },
          "metadata": {}
        }
      ]
    },
    {
      "metadata": {
        "trusted": true
      },
      "cell_type": "code",
      "source": "# Just a check to see which all columns have missing values (we just did a left join above)\ndfq1.info()",
      "execution_count": 30,
      "outputs": [
        {
          "output_type": "stream",
          "text": "<class 'pandas.core.frame.DataFrame'>\nInt64Index: 25000 entries, 0 to 24999\nData columns (total 36 columns):\nRowNo                25000 non-null int64\nMonth                25000 non-null int64\nDayofMonth           25000 non-null int64\nDayOfWeek            25000 non-null int64\nDepTime              24518 non-null float64\nShDepTime            25000 non-null int64\nArrTime              24464 non-null float64\nShArrTime            24995 non-null float64\nUniqueCarrierCode    25000 non-null object\nUniqueCarrierName    25000 non-null object\nFlightNum            25000 non-null int64\nTailNum              24705 non-null object\nActualElapsedTime    24451 non-null float64\nShElapsedTime        24998 non-null float64\nAirTime              24451 non-null float64\nArrDelay             24418 non-null float64\nDepDelay             24508 non-null float64\nOriginCode           25000 non-null object\nOriginName           25000 non-null object\nDestCode             25000 non-null object\nDestName             25000 non-null object\nDistance             24994 non-null float64\nTaxiIn               24464 non-null float64\nTaxiOut              24516 non-null float64\nCancelled            25000 non-null int64\nCancellationCode     485 non-null object\nDiverted             25000 non-null int64\nCarrierDelay         5414 non-null float64\nWeatherDelay         5414 non-null float64\nNASDelay             5414 non-null float64\nSecurityDelay        5414 non-null float64\nLateAircraftDelay    5414 non-null float64\nCode                 23382 non-null float64\nDescription          23382 non-null object\nairline_name         23382 non-null object\nairline_code         23382 non-null object\ndtypes: float64(17), int64(8), object(11)\nmemory usage: 7.1+ MB\n",
          "name": "stdout"
        }
      ]
    },
    {
      "metadata": {
        "trusted": true
      },
      "cell_type": "code",
      "source": "# Let's set missing values in airline_name column with NA\ndfq1['airline_name'].fillna('NA',inplace = True)\n# Why inplace = True above?\n# Because fillna function without inplace = True does not replace the actual data in the dataframe. The fillna function to take effect\n# inplace = True needs to be supplied",
      "execution_count": 31,
      "outputs": []
    },
    {
      "metadata": {
        "trusted": true,
        "scrolled": false
      },
      "cell_type": "code",
      "source": "# Now, we can group by airline_name\n# take count of rows using the size function\n# sort the data by the count\n# and slice out the top row\ndfq1.groupby('airline_name').size().sort_values(ascending=False)[:1]",
      "execution_count": 32,
      "outputs": [
        {
          "output_type": "execute_result",
          "execution_count": 32,
          "data": {
            "text/plain": "airline_name\nSouthwest Airlines Co.    4297\ndtype: int64"
          },
          "metadata": {}
        }
      ]
    },
    {
      "metadata": {
        "trusted": true
      },
      "cell_type": "code",
      "source": "# Let's store the name and value separately (of the top most airline)\nairline_name = dfq1.groupby('airline_name').size().sort_values(ascending=False).index[0]\nvalue = dfq1.groupby('airline_name').size().sort_values(ascending=False).values[0]",
      "execution_count": 33,
      "outputs": []
    },
    {
      "metadata": {
        "trusted": true
      },
      "cell_type": "code",
      "source": "# Let's print the final result in a readable format\nprint(\"Airline %s is the busiest in terms of volume with trip count as %d\"%(airline_name,value))",
      "execution_count": 34,
      "outputs": [
        {
          "output_type": "stream",
          "text": "Airline Southwest Airlines Co. is the busiest in terms of volume with trip count as 4297\n",
          "name": "stdout"
        }
      ]
    },
    {
      "metadata": {},
      "cell_type": "markdown",
      "source": "## Question : 2"
    },
    {
      "metadata": {},
      "cell_type": "markdown",
      "source": "* Which city is busiest in terms of traffic?\n    * Please note that you need to print out the city names against the traffic number and not just the airport name\n    * Ex. an airport name entry looks like : **New York, NY: John F Kennedy International**. The city name from this entry is **New York** "
    },
    {
      "metadata": {
        "trusted": true
      },
      "cell_type": "code",
      "source": "# Step 1 : Take count of trips by source city = This gives the departure count by city\ndf_dep = dfq1.groupby('OriginCode').size()\nprint(type(df_dep))\ndf_dep[:3]",
      "execution_count": 35,
      "outputs": [
        {
          "output_type": "stream",
          "text": "<class 'pandas.core.series.Series'>\n",
          "name": "stdout"
        },
        {
          "output_type": "execute_result",
          "execution_count": 35,
          "data": {
            "text/plain": "OriginCode\nABE     13\nABI     17\nABQ    169\ndtype: int64"
          },
          "metadata": {}
        }
      ]
    },
    {
      "metadata": {
        "trusted": true
      },
      "cell_type": "code",
      "source": "# Step 2 : Repeat the above by destination city = This gives the arrival count by city\ndf_arr = dfq1.groupby('DestCode').size()\nprint(type(df_arr))\ndf_arr[:3]",
      "execution_count": 36,
      "outputs": [
        {
          "output_type": "stream",
          "text": "<class 'pandas.core.series.Series'>\n",
          "name": "stdout"
        },
        {
          "output_type": "execute_result",
          "execution_count": 36,
          "data": {
            "text/plain": "DestCode\nABE     23\nABI      7\nABQ    146\ndtype: int64"
          },
          "metadata": {}
        }
      ]
    },
    {
      "metadata": {
        "trusted": true
      },
      "cell_type": "code",
      "source": "# To calculate total traffic, total arrivals and departures need to be added up \n# Let's create a new series which is a sum total of departure series and arrival series\ndf_tot = df_dep.add(df_arr)",
      "execution_count": 37,
      "outputs": []
    },
    {
      "metadata": {
        "trusted": true
      },
      "cell_type": "code",
      "source": "# Now, let's create a dataframe which would include the 3 series : departures, arrivals and totals\n# We also do a reset index at the end as this process would set the series starting from 0\nfinal_df = pd.concat([df_dep,df_arr,df_tot], axis=1).reset_index()",
      "execution_count": 38,
      "outputs": []
    },
    {
      "metadata": {
        "trusted": true
      },
      "cell_type": "code",
      "source": "final_df.columns = ['City_Code','#Departures','#Arrivals','Total Traffic']",
      "execution_count": 39,
      "outputs": []
    },
    {
      "metadata": {
        "trusted": true,
        "scrolled": true
      },
      "cell_type": "code",
      "source": "# Let's look at first few rows of the dataframe\nfinal_df.head()",
      "execution_count": 40,
      "outputs": [
        {
          "output_type": "execute_result",
          "execution_count": 40,
          "data": {
            "text/html": "<div>\n<table border=\"1\" class=\"dataframe\">\n  <thead>\n    <tr style=\"text-align: right;\">\n      <th></th>\n      <th>City_Code</th>\n      <th>#Departures</th>\n      <th>#Arrivals</th>\n      <th>Total Traffic</th>\n    </tr>\n  </thead>\n  <tbody>\n    <tr>\n      <th>0</th>\n      <td>ABE</td>\n      <td>13.0</td>\n      <td>23.0</td>\n      <td>36.0</td>\n    </tr>\n    <tr>\n      <th>1</th>\n      <td>ABI</td>\n      <td>17.0</td>\n      <td>7.0</td>\n      <td>24.0</td>\n    </tr>\n    <tr>\n      <th>2</th>\n      <td>ABQ</td>\n      <td>169.0</td>\n      <td>146.0</td>\n      <td>315.0</td>\n    </tr>\n    <tr>\n      <th>3</th>\n      <td>ABY</td>\n      <td>4.0</td>\n      <td>3.0</td>\n      <td>7.0</td>\n    </tr>\n    <tr>\n      <th>4</th>\n      <td>ACK</td>\n      <td>2.0</td>\n      <td>2.0</td>\n      <td>4.0</td>\n    </tr>\n  </tbody>\n</table>\n</div>",
            "text/plain": "  City_Code  #Departures  #Arrivals  Total Traffic\n0       ABE         13.0       23.0           36.0\n1       ABI         17.0        7.0           24.0\n2       ABQ        169.0      146.0          315.0\n3       ABY          4.0        3.0            7.0\n4       ACK          2.0        2.0            4.0"
          },
          "metadata": {}
        }
      ]
    },
    {
      "metadata": {
        "trusted": true
      },
      "cell_type": "code",
      "source": "# join with arp dataframe to fetch names of cities\narp.head()\n#again splitting the description column as done before\narp[['city','airport_name']] = arp['Description'].str.split(':',expand = True)",
      "execution_count": 41,
      "outputs": []
    },
    {
      "metadata": {
        "trusted": true
      },
      "cell_type": "code",
      "source": "arp.head()",
      "execution_count": 42,
      "outputs": [
        {
          "output_type": "execute_result",
          "execution_count": 42,
          "data": {
            "text/html": "<div>\n<table border=\"1\" class=\"dataframe\">\n  <thead>\n    <tr style=\"text-align: right;\">\n      <th></th>\n      <th>Code</th>\n      <th>Description</th>\n      <th>city</th>\n      <th>airport_name</th>\n    </tr>\n  </thead>\n  <tbody>\n    <tr>\n      <th>0</th>\n      <td>01A</td>\n      <td>Afognak Lake, AK: Afognak Lake Airport</td>\n      <td>Afognak Lake, AK</td>\n      <td>Afognak Lake Airport</td>\n    </tr>\n    <tr>\n      <th>1</th>\n      <td>03A</td>\n      <td>Granite Mountain, AK: Bear Creek Mining Strip</td>\n      <td>Granite Mountain, AK</td>\n      <td>Bear Creek Mining Strip</td>\n    </tr>\n    <tr>\n      <th>2</th>\n      <td>04A</td>\n      <td>Lik, AK: Lik Mining Camp</td>\n      <td>Lik, AK</td>\n      <td>Lik Mining Camp</td>\n    </tr>\n    <tr>\n      <th>3</th>\n      <td>05A</td>\n      <td>Little Squaw, AK: Little Squaw Airport</td>\n      <td>Little Squaw, AK</td>\n      <td>Little Squaw Airport</td>\n    </tr>\n    <tr>\n      <th>4</th>\n      <td>06A</td>\n      <td>Kizhuyak, AK: Kizhuyak Bay</td>\n      <td>Kizhuyak, AK</td>\n      <td>Kizhuyak Bay</td>\n    </tr>\n  </tbody>\n</table>\n</div>",
            "text/plain": "  Code                                    Description                  city  \\\n0  01A         Afognak Lake, AK: Afognak Lake Airport      Afognak Lake, AK   \n1  03A  Granite Mountain, AK: Bear Creek Mining Strip  Granite Mountain, AK   \n2  04A                       Lik, AK: Lik Mining Camp               Lik, AK   \n3  05A         Little Squaw, AK: Little Squaw Airport      Little Squaw, AK   \n4  06A                     Kizhuyak, AK: Kizhuyak Bay          Kizhuyak, AK   \n\n               airport_name  \n0      Afognak Lake Airport  \n1   Bear Creek Mining Strip  \n2           Lik Mining Camp  \n3      Little Squaw Airport  \n4              Kizhuyak Bay  "
          },
          "metadata": {}
        }
      ]
    },
    {
      "metadata": {
        "trusted": true
      },
      "cell_type": "code",
      "source": "# split the city column further to fetch the first value\n# please note the argument 1 below. This means fetch the value at the \"first\" occurrence of \",\"\narp[['city_name','state_name']] = arp['city'].str.split(',',1,expand = True)",
      "execution_count": 43,
      "outputs": []
    },
    {
      "metadata": {
        "trusted": true
      },
      "cell_type": "code",
      "source": "arp.head()",
      "execution_count": 44,
      "outputs": [
        {
          "output_type": "execute_result",
          "execution_count": 44,
          "data": {
            "text/html": "<div>\n<table border=\"1\" class=\"dataframe\">\n  <thead>\n    <tr style=\"text-align: right;\">\n      <th></th>\n      <th>Code</th>\n      <th>Description</th>\n      <th>city</th>\n      <th>airport_name</th>\n      <th>city_name</th>\n      <th>state_name</th>\n    </tr>\n  </thead>\n  <tbody>\n    <tr>\n      <th>0</th>\n      <td>01A</td>\n      <td>Afognak Lake, AK: Afognak Lake Airport</td>\n      <td>Afognak Lake, AK</td>\n      <td>Afognak Lake Airport</td>\n      <td>Afognak Lake</td>\n      <td>AK</td>\n    </tr>\n    <tr>\n      <th>1</th>\n      <td>03A</td>\n      <td>Granite Mountain, AK: Bear Creek Mining Strip</td>\n      <td>Granite Mountain, AK</td>\n      <td>Bear Creek Mining Strip</td>\n      <td>Granite Mountain</td>\n      <td>AK</td>\n    </tr>\n    <tr>\n      <th>2</th>\n      <td>04A</td>\n      <td>Lik, AK: Lik Mining Camp</td>\n      <td>Lik, AK</td>\n      <td>Lik Mining Camp</td>\n      <td>Lik</td>\n      <td>AK</td>\n    </tr>\n    <tr>\n      <th>3</th>\n      <td>05A</td>\n      <td>Little Squaw, AK: Little Squaw Airport</td>\n      <td>Little Squaw, AK</td>\n      <td>Little Squaw Airport</td>\n      <td>Little Squaw</td>\n      <td>AK</td>\n    </tr>\n    <tr>\n      <th>4</th>\n      <td>06A</td>\n      <td>Kizhuyak, AK: Kizhuyak Bay</td>\n      <td>Kizhuyak, AK</td>\n      <td>Kizhuyak Bay</td>\n      <td>Kizhuyak</td>\n      <td>AK</td>\n    </tr>\n  </tbody>\n</table>\n</div>",
            "text/plain": "  Code                                    Description                  city  \\\n0  01A         Afognak Lake, AK: Afognak Lake Airport      Afognak Lake, AK   \n1  03A  Granite Mountain, AK: Bear Creek Mining Strip  Granite Mountain, AK   \n2  04A                       Lik, AK: Lik Mining Camp               Lik, AK   \n3  05A         Little Squaw, AK: Little Squaw Airport      Little Squaw, AK   \n4  06A                     Kizhuyak, AK: Kizhuyak Bay          Kizhuyak, AK   \n\n               airport_name         city_name state_name  \n0      Afognak Lake Airport      Afognak Lake         AK  \n1   Bear Creek Mining Strip  Granite Mountain         AK  \n2           Lik Mining Camp               Lik         AK  \n3      Little Squaw Airport      Little Squaw         AK  \n4              Kizhuyak Bay          Kizhuyak         AK  "
          },
          "metadata": {}
        }
      ]
    },
    {
      "metadata": {
        "trusted": true
      },
      "cell_type": "code",
      "source": "# get rid of columns which are not required\narp.drop(['Description','city','airport_name','state_name'],axis = 1,inplace=True)",
      "execution_count": 45,
      "outputs": []
    },
    {
      "metadata": {
        "trusted": true,
        "scrolled": true
      },
      "cell_type": "code",
      "source": "# As an hygiene we should ensure there are no whitespaces in the city_name\narp['city_name'] = arp['city_name'].str.strip()",
      "execution_count": 46,
      "outputs": []
    },
    {
      "metadata": {
        "trusted": true
      },
      "cell_type": "code",
      "source": "# Cool, now all that is left is joining with the ar_pf dataframe on City_Code column\ndfq2 = pd.merge(final_df,arp,left_on='City_Code',right_on='Code',how='left')",
      "execution_count": 47,
      "outputs": []
    },
    {
      "metadata": {
        "trusted": true
      },
      "cell_type": "code",
      "source": "dfq2.head()",
      "execution_count": 48,
      "outputs": [
        {
          "output_type": "execute_result",
          "execution_count": 48,
          "data": {
            "text/html": "<div>\n<table border=\"1\" class=\"dataframe\">\n  <thead>\n    <tr style=\"text-align: right;\">\n      <th></th>\n      <th>City_Code</th>\n      <th>#Departures</th>\n      <th>#Arrivals</th>\n      <th>Total Traffic</th>\n      <th>Code</th>\n      <th>city_name</th>\n    </tr>\n  </thead>\n  <tbody>\n    <tr>\n      <th>0</th>\n      <td>ABE</td>\n      <td>13.0</td>\n      <td>23.0</td>\n      <td>36.0</td>\n      <td>ABE</td>\n      <td>Allentown/Bethlehem/Easton</td>\n    </tr>\n    <tr>\n      <th>1</th>\n      <td>ABI</td>\n      <td>17.0</td>\n      <td>7.0</td>\n      <td>24.0</td>\n      <td>ABI</td>\n      <td>Abilene</td>\n    </tr>\n    <tr>\n      <th>2</th>\n      <td>ABQ</td>\n      <td>169.0</td>\n      <td>146.0</td>\n      <td>315.0</td>\n      <td>NaN</td>\n      <td>NaN</td>\n    </tr>\n    <tr>\n      <th>3</th>\n      <td>ABY</td>\n      <td>4.0</td>\n      <td>3.0</td>\n      <td>7.0</td>\n      <td>ABY</td>\n      <td>Albany</td>\n    </tr>\n    <tr>\n      <th>4</th>\n      <td>ACK</td>\n      <td>2.0</td>\n      <td>2.0</td>\n      <td>4.0</td>\n      <td>ACK</td>\n      <td>Nantucket</td>\n    </tr>\n  </tbody>\n</table>\n</div>",
            "text/plain": "  City_Code  #Departures  #Arrivals  Total Traffic Code  \\\n0       ABE         13.0       23.0           36.0  ABE   \n1       ABI         17.0        7.0           24.0  ABI   \n2       ABQ        169.0      146.0          315.0  NaN   \n3       ABY          4.0        3.0            7.0  ABY   \n4       ACK          2.0        2.0            4.0  ACK   \n\n                    city_name  \n0  Allentown/Bethlehem/Easton  \n1                     Abilene  \n2                         NaN  \n3                      Albany  \n4                   Nantucket  "
          },
          "metadata": {}
        }
      ]
    },
    {
      "metadata": {
        "trusted": true
      },
      "cell_type": "code",
      "source": "# We sort the final dataframe to ensure the city with highest traffic comes at the top\ndfq2.sort_values(by='Total Traffic',ascending=False)[:1]",
      "execution_count": 111,
      "outputs": [
        {
          "output_type": "execute_result",
          "execution_count": 111,
          "data": {
            "text/html": "<div>\n<table border=\"1\" class=\"dataframe\">\n  <thead>\n    <tr style=\"text-align: right;\">\n      <th></th>\n      <th>City_Code</th>\n      <th>#Departures</th>\n      <th>#Arrivals</th>\n      <th>Total Traffic</th>\n      <th>Code</th>\n      <th>city_name</th>\n    </tr>\n  </thead>\n  <tbody>\n    <tr>\n      <th>15</th>\n      <td>ATL</td>\n      <td>1524.0</td>\n      <td>1483.0</td>\n      <td>3007.0</td>\n      <td>ATL</td>\n      <td>Atlanta</td>\n    </tr>\n  </tbody>\n</table>\n</div>",
            "text/plain": "   City_Code  #Departures  #Arrivals  Total Traffic Code city_name\n15       ATL       1524.0     1483.0         3007.0  ATL   Atlanta"
          },
          "metadata": {}
        }
      ]
    },
    {
      "metadata": {
        "trusted": true
      },
      "cell_type": "code",
      "source": "# Let's store the name and value separately (of the top most airline)\n# iloc index 0 means first row of dataframe, index -1 means last value\ncity_name = dfq2.sort_values(by='Total Traffic',ascending=False).iloc[0][-1]\nvalue = dfq2.sort_values(by='Total Traffic',ascending=False).iloc[0][-3]",
      "execution_count": 112,
      "outputs": []
    },
    {
      "metadata": {
        "trusted": true
      },
      "cell_type": "code",
      "source": "# Let's print the final result in a readable format\nprint(\"%s City is the busiest in terms of traffic with value as %d\"%(city_name,value))",
      "execution_count": 113,
      "outputs": [
        {
          "output_type": "stream",
          "text": "Atlanta City is the busiest in terms of traffic with value as 3007\n",
          "name": "stdout"
        }
      ]
    },
    {
      "metadata": {},
      "cell_type": "markdown",
      "source": "## Question : 3"
    },
    {
      "metadata": {},
      "cell_type": "markdown",
      "source": "* Which carrier has got the highest air time?"
    },
    {
      "metadata": {
        "trusted": true
      },
      "cell_type": "code",
      "source": "# type your code below\ndfq3 = dfq1.groupby('airline_name')['AirTime'].sum().sort_values(ascending=False)[:1]",
      "execution_count": 116,
      "outputs": []
    },
    {
      "metadata": {
        "trusted": true
      },
      "cell_type": "code",
      "source": "type(dfq3)",
      "execution_count": 118,
      "outputs": [
        {
          "output_type": "execute_result",
          "execution_count": 118,
          "data": {
            "text/plain": "pandas.core.series.Series"
          },
          "metadata": {}
        }
      ]
    },
    {
      "metadata": {
        "trusted": true
      },
      "cell_type": "code",
      "source": "# Let's store the name and value separately (of the top most airline)\n# iloc index 0 means first row of dataframe, index -1 means last value\ncarrier_name = dfq3.index[0]\nvalue = dfq3.values[0]",
      "execution_count": 123,
      "outputs": []
    },
    {
      "metadata": {
        "trusted": true
      },
      "cell_type": "code",
      "source": "# Let's print the final result in a readable format\nprint(\"Airline %s has got the highest airtime with value as %d minutes\"%(carrier_name,value))",
      "execution_count": 125,
      "outputs": [
        {
          "output_type": "stream",
          "text": "Airline Southwest Airlines Co. has got the highest airtime with value as 391738 minutes\n",
          "name": "stdout"
        }
      ]
    },
    {
      "metadata": {},
      "cell_type": "markdown",
      "source": "## Question : 4"
    },
    {
      "metadata": {},
      "cell_type": "markdown",
      "source": "* List top 5 cities which are busiest in terms of average flights handled per day for the month of June?"
    },
    {
      "metadata": {
        "trusted": true
      },
      "cell_type": "code",
      "source": "# type your code below\nar_pf.columns",
      "execution_count": 6,
      "outputs": [
        {
          "output_type": "execute_result",
          "execution_count": 6,
          "data": {
            "text/plain": "Index(['RowNo', 'Month', 'DayofMonth', 'DayOfWeek', 'DepTime', 'ShDepTime',\n       'ArrTime', 'ShArrTime', 'UniqueCarrierCode', 'UniqueCarrierName',\n       'FlightNum', 'TailNum', 'ActualElapsedTime', 'ShElapsedTime', 'AirTime',\n       'ArrDelay', 'DepDelay', 'OriginCode', 'OriginName', 'DestCode',\n       'DestName', 'Distance', 'TaxiIn', 'TaxiOut', 'Cancelled',\n       'CancellationCode', 'Diverted', 'CarrierDelay', 'WeatherDelay',\n       'NASDelay', 'SecurityDelay', 'LateAircraftDelay'],\n      dtype='object')"
          },
          "metadata": {}
        }
      ]
    },
    {
      "metadata": {
        "trusted": true
      },
      "cell_type": "code",
      "source": "# we need to get total traffic first of all, which we have already done before\n# it needs to be grouped by cities\n# do it for departures \ndep_jun = ar_pf[ar_pf['Month'] == 6].groupby('OriginCode').size()",
      "execution_count": 9,
      "outputs": []
    },
    {
      "metadata": {
        "trusted": true
      },
      "cell_type": "code",
      "source": "# repeat for arrivals\narr_jun = ar_pf[ar_pf['Month'] == 6].groupby('DestCode').size()",
      "execution_count": 10,
      "outputs": []
    },
    {
      "metadata": {
        "trusted": true
      },
      "cell_type": "code",
      "source": "# add the 2 series to get totals\ntot_jun = arr_jun.add(dep_jun)",
      "execution_count": 11,
      "outputs": []
    },
    {
      "metadata": {
        "trusted": true
      },
      "cell_type": "code",
      "source": "# fill missing values with 0\ntot_jun.fillna(0,inplace=True)",
      "execution_count": 16,
      "outputs": []
    },
    {
      "metadata": {
        "trusted": true
      },
      "cell_type": "code",
      "source": "# to get average divide the total trips per city by 30\n# sort in descending order\n# slice off top 5 rows\ntop_5 = (tot_jun/30).sort_values(ascending=False)[:5]",
      "execution_count": 52,
      "outputs": []
    },
    {
      "metadata": {
        "trusted": true
      },
      "cell_type": "code",
      "source": "dfq2.head()",
      "execution_count": 49,
      "outputs": [
        {
          "output_type": "execute_result",
          "execution_count": 49,
          "data": {
            "text/html": "<div>\n<table border=\"1\" class=\"dataframe\">\n  <thead>\n    <tr style=\"text-align: right;\">\n      <th></th>\n      <th>City_Code</th>\n      <th>#Departures</th>\n      <th>#Arrivals</th>\n      <th>Total Traffic</th>\n      <th>Code</th>\n      <th>city_name</th>\n    </tr>\n  </thead>\n  <tbody>\n    <tr>\n      <th>0</th>\n      <td>ABE</td>\n      <td>13.0</td>\n      <td>23.0</td>\n      <td>36.0</td>\n      <td>ABE</td>\n      <td>Allentown/Bethlehem/Easton</td>\n    </tr>\n    <tr>\n      <th>1</th>\n      <td>ABI</td>\n      <td>17.0</td>\n      <td>7.0</td>\n      <td>24.0</td>\n      <td>ABI</td>\n      <td>Abilene</td>\n    </tr>\n    <tr>\n      <th>2</th>\n      <td>ABQ</td>\n      <td>169.0</td>\n      <td>146.0</td>\n      <td>315.0</td>\n      <td>NaN</td>\n      <td>NaN</td>\n    </tr>\n    <tr>\n      <th>3</th>\n      <td>ABY</td>\n      <td>4.0</td>\n      <td>3.0</td>\n      <td>7.0</td>\n      <td>ABY</td>\n      <td>Albany</td>\n    </tr>\n    <tr>\n      <th>4</th>\n      <td>ACK</td>\n      <td>2.0</td>\n      <td>2.0</td>\n      <td>4.0</td>\n      <td>ACK</td>\n      <td>Nantucket</td>\n    </tr>\n  </tbody>\n</table>\n</div>",
            "text/plain": "  City_Code  #Departures  #Arrivals  Total Traffic Code  \\\n0       ABE         13.0       23.0           36.0  ABE   \n1       ABI         17.0        7.0           24.0  ABI   \n2       ABQ        169.0      146.0          315.0  NaN   \n3       ABY          4.0        3.0            7.0  ABY   \n4       ACK          2.0        2.0            4.0  ACK   \n\n                    city_name  \n0  Allentown/Bethlehem/Easton  \n1                     Abilene  \n2                         NaN  \n3                      Albany  \n4                   Nantucket  "
          },
          "metadata": {}
        }
      ]
    },
    {
      "metadata": {
        "trusted": true
      },
      "cell_type": "code",
      "source": "# Join the series top5 with dfq2 dataframe (as shown above)\n# created in the previous question to fetch the city names",
      "execution_count": 53,
      "outputs": []
    },
    {
      "metadata": {},
      "cell_type": "markdown",
      "source": "## Question 6 : "
    },
    {
      "metadata": {},
      "cell_type": "markdown",
      "source": "* Are weekends busier than weekdays?"
    },
    {
      "metadata": {
        "trusted": true
      },
      "cell_type": "code",
      "source": "# type your code below\n",
      "execution_count": 12,
      "outputs": []
    },
    {
      "metadata": {},
      "cell_type": "markdown",
      "source": "## Question 7 :"
    },
    {
      "metadata": {},
      "cell_type": "markdown",
      "source": "* Longer duration flights have a larger tendency to have arrival delays. Analyze the hypothesis with appropriate visuals"
    },
    {
      "metadata": {
        "trusted": true
      },
      "cell_type": "code",
      "source": "# type your code below\n",
      "execution_count": 13,
      "outputs": []
    },
    {
      "metadata": {},
      "cell_type": "markdown",
      "source": "## Question 8 : "
    },
    {
      "metadata": {},
      "cell_type": "markdown",
      "source": "* Consider the below bucketing logic for \"Actual departure Time\" :\n    * Any flight departing between 4am - 12pm : Morning flight\n    * Any flight departing between 12pm - 4pm : Afternoon flight\n    * Any flight departing between 4pm - 9pm : Evening flight\n    * Any flight departing between 9pm - 4am : Night flight\n* Based on the above logic, answer the below questions : \n    * Which time of the day observes highest departure delays?\n    * Create a pivot table with time of day in rows and type of delay in columns and #of occurrences in values\n    * Which type of delay is most frequent in evening flights?\n    * Which airport sees the highest occurrences of security related delay in the morning?"
    },
    {
      "metadata": {
        "trusted": true
      },
      "cell_type": "code",
      "source": "# type your code below\n",
      "execution_count": 14,
      "outputs": []
    },
    {
      "metadata": {},
      "cell_type": "markdown",
      "source": "## Question 9 :"
    },
    {
      "metadata": {},
      "cell_type": "markdown",
      "source": "* Consider the term \"delay\" as :\n    * Any flight arriving more than 15 min later than the expected arrival time is considered \"arrival delay\"\n    * Any flight departing more than 15 min later than the expected departure time is considered \"departure delay\"\n    * A flight is considered delayed when any one of the above conditions is true\n    * Based on the above, answer the below questions :\n        * Which airline carriers have caused the highest % of delays?\n        * Which airports are facing the highest % of delayed flights?"
    },
    {
      "metadata": {
        "trusted": true
      },
      "cell_type": "code",
      "source": "# type your code below\n",
      "execution_count": null,
      "outputs": []
    },
    {
      "metadata": {},
      "cell_type": "markdown",
      "source": "## Question : 10"
    },
    {
      "metadata": {},
      "cell_type": "markdown",
      "source": "* List down top 10 cities in terms of total traffic between June and September\n* Please note : Total traffic = Total #arrivals + Total #departures"
    },
    {
      "metadata": {
        "trusted": true
      },
      "cell_type": "code",
      "source": "# type your code below\n",
      "execution_count": 15,
      "outputs": []
    }
  ],
  "metadata": {
    "kernelspec": {
      "name": "python3",
      "display_name": "Python 3",
      "language": "python"
    },
    "language_info": {
      "mimetype": "text/x-python",
      "nbconvert_exporter": "python",
      "name": "python",
      "file_extension": ".py",
      "version": "3.5.4",
      "pygments_lexer": "ipython3",
      "codemirror_mode": {
        "version": 3,
        "name": "ipython"
      }
    }
  },
  "nbformat": 4,
  "nbformat_minor": 1
}