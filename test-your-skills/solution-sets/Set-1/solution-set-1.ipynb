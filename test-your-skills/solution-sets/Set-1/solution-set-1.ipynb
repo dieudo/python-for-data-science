{
 "cells": [
  {
   "cell_type": "markdown",
   "metadata": {},
   "source": [
    "# Python data manipulation exercise - Airline Performance Analysis"
   ]
  },
  {
   "cell_type": "markdown",
   "metadata": {},
   "source": [
    "## Problem\n",
    "\n",
    "Airlines are always run on tight schedules and very thin operating margins. To top this, the customers are extremely demanding expecting their flights to be on time always. Airline carriers try to overcome this challenge by detailed planning and prompt execution. However, there are factors like weather, technical glitches, unexpected challenges at airports which end up causing delay in arrival or departure of aircrafts. Since, the flights hop multiple cities any delay caused at one nodal city adds up and results in significant delays in subsequent stoppages if not taken care of early. \n",
    "\n",
    "## What is expected from you?\n",
    "You have been provided with 3 datasets : \n",
    "1. airline-performance.csv\n",
    "2. air-carrier-details.csv\n",
    "3. airports.csv\n",
    "\n",
    "Below are a set of questions of interest related to the problem statement at hand. Leverage your Python data wrangling skills to solve them"
   ]
  },
  {
   "cell_type": "code",
   "execution_count": 7,
   "metadata": {},
   "outputs": [],
   "source": [
    "file_path = '../../problem-sets/Set-1/data'"
   ]
  },
  {
   "cell_type": "code",
   "execution_count": 44,
   "metadata": {},
   "outputs": [],
   "source": [
    "# Let us read the datasets first\n",
    "import pandas as pd\n",
    "ar_pf = pd.read_csv(file_path+'/airline-performance.csv')\n",
    "ar_cr = pd.read_csv(file_path+'/air-carrier-details.csv')\n",
    "arp = pd.read_csv(file_path+'/airports.csv')"
   ]
  },
  {
   "cell_type": "code",
   "execution_count": 11,
   "metadata": {},
   "outputs": [
    {
     "data": {
      "text/plain": [
       "Index(['RowNo', 'Month', 'DayofMonth', 'DayOfWeek', 'DepTime', 'ShDepTime',\n",
       "       'ArrTime', 'ShArrTime', 'UniqueCarrierCode', 'FlightNum', 'TailNum',\n",
       "       'ActualElapsedTime', 'ShElapsedTime', 'AirTime', 'ArrDelay', 'DepDelay',\n",
       "       'OriginCode', 'DestCode', 'Distance', 'TaxiIn', 'TaxiOut', 'Cancelled',\n",
       "       'CancellationCode', 'Diverted', 'CarrierDelay', 'WeatherDelay',\n",
       "       'NASDelay', 'SecurityDelay', 'LateAircraftDelay'],\n",
       "      dtype='object')"
      ]
     },
     "execution_count": 11,
     "metadata": {},
     "output_type": "execute_result"
    }
   ],
   "source": [
    "ar_pf.columns"
   ]
  },
  {
   "cell_type": "markdown",
   "metadata": {},
   "source": [
    "## Question : 1"
   ]
  },
  {
   "cell_type": "markdown",
   "metadata": {},
   "source": [
    "* Which airline carrier is busiest in terms of volume?"
   ]
  },
  {
   "cell_type": "markdown",
   "metadata": {},
   "source": [
    "Let's analyze the question here. We need to find out the name of the airline carrier\n",
    "* Also, busiest in terms of volume would mean calculating count of trips\n",
    "* As we find out, each row of the dataset airline-performance corresponds to a trip\n",
    "* This dataset also has reference to airline carrier called **UniqueCarrierCode** and refers to the dataset air-carrier-details which has the name of the carrier in the column **Description**"
   ]
  },
  {
   "cell_type": "code",
   "execution_count": 24,
   "metadata": {},
   "outputs": [
    {
     "data": {
      "text/html": [
       "<div>\n",
       "<table border=\"1\" class=\"dataframe\">\n",
       "  <thead>\n",
       "    <tr style=\"text-align: right;\">\n",
       "      <th></th>\n",
       "      <th>Code</th>\n",
       "      <th>Description</th>\n",
       "    </tr>\n",
       "  </thead>\n",
       "  <tbody>\n",
       "    <tr>\n",
       "      <th>0</th>\n",
       "      <td>19031</td>\n",
       "      <td>Mackey International Inc.: MAC</td>\n",
       "    </tr>\n",
       "    <tr>\n",
       "      <th>1</th>\n",
       "      <td>19032</td>\n",
       "      <td>Munz Northern Airlines Inc.: XY</td>\n",
       "    </tr>\n",
       "    <tr>\n",
       "      <th>2</th>\n",
       "      <td>19033</td>\n",
       "      <td>Cochise Airlines Inc.: COC</td>\n",
       "    </tr>\n",
       "    <tr>\n",
       "      <th>3</th>\n",
       "      <td>19034</td>\n",
       "      <td>Golden Gate Airlines Inc.: GSA</td>\n",
       "    </tr>\n",
       "    <tr>\n",
       "      <th>4</th>\n",
       "      <td>19035</td>\n",
       "      <td>Aeromech Inc.: RZZ</td>\n",
       "    </tr>\n",
       "  </tbody>\n",
       "</table>\n",
       "</div>"
      ],
      "text/plain": [
       "    Code                      Description\n",
       "0  19031   Mackey International Inc.: MAC\n",
       "1  19032  Munz Northern Airlines Inc.: XY\n",
       "2  19033       Cochise Airlines Inc.: COC\n",
       "3  19034   Golden Gate Airlines Inc.: GSA\n",
       "4  19035               Aeromech Inc.: RZZ"
      ]
     },
     "execution_count": 24,
     "metadata": {},
     "output_type": "execute_result"
    }
   ],
   "source": [
    "# Let's first look at sample data in the dataframe ar_cr\n",
    "ar_cr.head()"
   ]
  },
  {
   "cell_type": "code",
   "execution_count": 14,
   "metadata": {},
   "outputs": [],
   "source": [
    "# Looking at the data above, it seems the value which is required to join with the datasets ar_pf is a part of \n",
    "# the Description column\n",
    "# We need to extract the letters after the : symbol, which would then be used to join the dataset ar_pf using the \n",
    "# column UniqueCarrierCode\n",
    "# This can be easily done by the below code\n",
    "\n",
    "ar_cr[['airline_name','airline_code']] = ar_cr['Description'].str.split(':',expand = True)"
   ]
  },
  {
   "cell_type": "markdown",
   "metadata": {},
   "source": [
    "Have a look at the reference [here](https://www.geeksforgeeks.org/split-a-text-column-into-two-columns-in-pandas-dataframe/) to understand the above code"
   ]
  },
  {
   "cell_type": "code",
   "execution_count": 15,
   "metadata": {},
   "outputs": [],
   "source": [
    "# Just for hygiene purposes we strip off all possible whitespaces from the code\n",
    "ar_cr['airline_code'] = ar_cr['airline_code'].str.strip()"
   ]
  },
  {
   "cell_type": "code",
   "execution_count": 16,
   "metadata": {
    "scrolled": true
   },
   "outputs": [
    {
     "data": {
      "text/html": [
       "<div>\n",
       "<style scoped>\n",
       "    .dataframe tbody tr th:only-of-type {\n",
       "        vertical-align: middle;\n",
       "    }\n",
       "\n",
       "    .dataframe tbody tr th {\n",
       "        vertical-align: top;\n",
       "    }\n",
       "\n",
       "    .dataframe thead th {\n",
       "        text-align: right;\n",
       "    }\n",
       "</style>\n",
       "<table border=\"1\" class=\"dataframe\">\n",
       "  <thead>\n",
       "    <tr style=\"text-align: right;\">\n",
       "      <th></th>\n",
       "      <th>Code</th>\n",
       "      <th>Description</th>\n",
       "      <th>airline_name</th>\n",
       "      <th>airline_code</th>\n",
       "    </tr>\n",
       "  </thead>\n",
       "  <tbody>\n",
       "    <tr>\n",
       "      <th>0</th>\n",
       "      <td>19031</td>\n",
       "      <td>Mackey International Inc.: MAC</td>\n",
       "      <td>Mackey International Inc.</td>\n",
       "      <td>MAC</td>\n",
       "    </tr>\n",
       "    <tr>\n",
       "      <th>1</th>\n",
       "      <td>19032</td>\n",
       "      <td>Munz Northern Airlines Inc.: XY</td>\n",
       "      <td>Munz Northern Airlines Inc.</td>\n",
       "      <td>XY</td>\n",
       "    </tr>\n",
       "    <tr>\n",
       "      <th>2</th>\n",
       "      <td>19033</td>\n",
       "      <td>Cochise Airlines Inc.: COC</td>\n",
       "      <td>Cochise Airlines Inc.</td>\n",
       "      <td>COC</td>\n",
       "    </tr>\n",
       "    <tr>\n",
       "      <th>3</th>\n",
       "      <td>19034</td>\n",
       "      <td>Golden Gate Airlines Inc.: GSA</td>\n",
       "      <td>Golden Gate Airlines Inc.</td>\n",
       "      <td>GSA</td>\n",
       "    </tr>\n",
       "    <tr>\n",
       "      <th>4</th>\n",
       "      <td>19035</td>\n",
       "      <td>Aeromech Inc.: RZZ</td>\n",
       "      <td>Aeromech Inc.</td>\n",
       "      <td>RZZ</td>\n",
       "    </tr>\n",
       "  </tbody>\n",
       "</table>\n",
       "</div>"
      ],
      "text/plain": [
       "    Code                      Description                 airline_name  \\\n",
       "0  19031   Mackey International Inc.: MAC    Mackey International Inc.   \n",
       "1  19032  Munz Northern Airlines Inc.: XY  Munz Northern Airlines Inc.   \n",
       "2  19033       Cochise Airlines Inc.: COC        Cochise Airlines Inc.   \n",
       "3  19034   Golden Gate Airlines Inc.: GSA    Golden Gate Airlines Inc.   \n",
       "4  19035               Aeromech Inc.: RZZ                Aeromech Inc.   \n",
       "\n",
       "  airline_code  \n",
       "0          MAC  \n",
       "1           XY  \n",
       "2          COC  \n",
       "3          GSA  \n",
       "4          RZZ  "
      ]
     },
     "execution_count": 16,
     "metadata": {},
     "output_type": "execute_result"
    }
   ],
   "source": [
    "# Let's now look how the dataframe looks like :\n",
    "ar_cr.head()"
   ]
  },
  {
   "cell_type": "code",
   "execution_count": 17,
   "metadata": {},
   "outputs": [],
   "source": [
    "# Cool, now all that is left is joining with the ar_pf dataframe on UniqueCarrierCode column\n",
    "# we do this using merge function of pandas\n",
    "# Why do we do left join?\n",
    "dfq1 = pd.merge(ar_pf,ar_cr,left_on='UniqueCarrierCode',right_on='airline_code',how='left')"
   ]
  },
  {
   "cell_type": "code",
   "execution_count": 19,
   "metadata": {},
   "outputs": [
    {
     "data": {
      "text/html": [
       "<div>\n",
       "<style scoped>\n",
       "    .dataframe tbody tr th:only-of-type {\n",
       "        vertical-align: middle;\n",
       "    }\n",
       "\n",
       "    .dataframe tbody tr th {\n",
       "        vertical-align: top;\n",
       "    }\n",
       "\n",
       "    .dataframe thead th {\n",
       "        text-align: right;\n",
       "    }\n",
       "</style>\n",
       "<table border=\"1\" class=\"dataframe\">\n",
       "  <thead>\n",
       "    <tr style=\"text-align: right;\">\n",
       "      <th></th>\n",
       "      <th>RowNo</th>\n",
       "      <th>Month</th>\n",
       "      <th>DayofMonth</th>\n",
       "      <th>DayOfWeek</th>\n",
       "      <th>DepTime</th>\n",
       "      <th>ShDepTime</th>\n",
       "      <th>ArrTime</th>\n",
       "      <th>ShArrTime</th>\n",
       "      <th>UniqueCarrierCode</th>\n",
       "      <th>FlightNum</th>\n",
       "      <th>...</th>\n",
       "      <th>Diverted</th>\n",
       "      <th>CarrierDelay</th>\n",
       "      <th>WeatherDelay</th>\n",
       "      <th>NASDelay</th>\n",
       "      <th>SecurityDelay</th>\n",
       "      <th>LateAircraftDelay</th>\n",
       "      <th>Code</th>\n",
       "      <th>Description</th>\n",
       "      <th>airline_name</th>\n",
       "      <th>airline_code</th>\n",
       "    </tr>\n",
       "  </thead>\n",
       "  <tbody>\n",
       "    <tr>\n",
       "      <th>0</th>\n",
       "      <td>1</td>\n",
       "      <td>9</td>\n",
       "      <td>16</td>\n",
       "      <td>2</td>\n",
       "      <td>1725.0</td>\n",
       "      <td>1730</td>\n",
       "      <td>1857.0</td>\n",
       "      <td>1909.0</td>\n",
       "      <td>CO</td>\n",
       "      <td>1197</td>\n",
       "      <td>...</td>\n",
       "      <td>0</td>\n",
       "      <td>NaN</td>\n",
       "      <td>NaN</td>\n",
       "      <td>NaN</td>\n",
       "      <td>NaN</td>\n",
       "      <td>NaN</td>\n",
       "      <td>19704.0</td>\n",
       "      <td>Continental Air Lines Inc.: CO</td>\n",
       "      <td>Continental Air Lines Inc.</td>\n",
       "      <td>CO</td>\n",
       "    </tr>\n",
       "  </tbody>\n",
       "</table>\n",
       "<p>1 rows × 33 columns</p>\n",
       "</div>"
      ],
      "text/plain": [
       "   RowNo  Month  DayofMonth  DayOfWeek  DepTime  ShDepTime  ArrTime  \\\n",
       "0      1      9          16          2   1725.0       1730   1857.0   \n",
       "\n",
       "   ShArrTime UniqueCarrierCode  FlightNum  ... Diverted  CarrierDelay  \\\n",
       "0     1909.0                CO       1197  ...        0           NaN   \n",
       "\n",
       "   WeatherDelay  NASDelay  SecurityDelay  LateAircraftDelay     Code  \\\n",
       "0           NaN       NaN            NaN                NaN  19704.0   \n",
       "\n",
       "                      Description                airline_name  airline_code  \n",
       "0  Continental Air Lines Inc.: CO  Continental Air Lines Inc.            CO  \n",
       "\n",
       "[1 rows x 33 columns]"
      ]
     },
     "execution_count": 19,
     "metadata": {},
     "output_type": "execute_result"
    }
   ],
   "source": [
    "# Ok, merge is done. Let's see how the new dataframe looks like\n",
    "dfq1.loc[:0,]"
   ]
  },
  {
   "cell_type": "code",
   "execution_count": 20,
   "metadata": {},
   "outputs": [
    {
     "name": "stdout",
     "output_type": "stream",
     "text": [
      "<class 'pandas.core.frame.DataFrame'>\n",
      "Int64Index: 25000 entries, 0 to 24999\n",
      "Data columns (total 33 columns):\n",
      "RowNo                25000 non-null int64\n",
      "Month                25000 non-null int64\n",
      "DayofMonth           25000 non-null int64\n",
      "DayOfWeek            25000 non-null int64\n",
      "DepTime              24518 non-null float64\n",
      "ShDepTime            25000 non-null int64\n",
      "ArrTime              24464 non-null float64\n",
      "ShArrTime            24995 non-null float64\n",
      "UniqueCarrierCode    25000 non-null object\n",
      "FlightNum            25000 non-null int64\n",
      "TailNum              24705 non-null object\n",
      "ActualElapsedTime    24451 non-null float64\n",
      "ShElapsedTime        24998 non-null float64\n",
      "AirTime              24451 non-null float64\n",
      "ArrDelay             24418 non-null float64\n",
      "DepDelay             24508 non-null float64\n",
      "OriginCode           25000 non-null object\n",
      "DestCode             25000 non-null object\n",
      "Distance             24994 non-null float64\n",
      "TaxiIn               24464 non-null float64\n",
      "TaxiOut              24516 non-null float64\n",
      "Cancelled            25000 non-null int64\n",
      "CancellationCode     485 non-null object\n",
      "Diverted             25000 non-null int64\n",
      "CarrierDelay         5414 non-null float64\n",
      "WeatherDelay         5414 non-null float64\n",
      "NASDelay             5414 non-null float64\n",
      "SecurityDelay        5414 non-null float64\n",
      "LateAircraftDelay    5414 non-null float64\n",
      "Code                 23382 non-null float64\n",
      "Description          23382 non-null object\n",
      "airline_name         25000 non-null object\n",
      "airline_code         23382 non-null object\n",
      "dtypes: float64(17), int64(8), object(8)\n",
      "memory usage: 7.1+ MB\n"
     ]
    }
   ],
   "source": [
    "# Just a check to see which all columns have missing values (we just did a left join above)\n",
    "dfq1.info()"
   ]
  },
  {
   "cell_type": "code",
   "execution_count": 21,
   "metadata": {},
   "outputs": [],
   "source": [
    "# Let's set missing values in airline_name column with NA\n",
    "dfq1['airline_name'].fillna('NA',inplace = True)\n",
    "# Why inplace = True above?\n",
    "# Because fillna function without inplace = True does not replace the actual data in the dataframe. \n",
    "# For the fillna function to take effect inplace = True needs to be supplied"
   ]
  },
  {
   "cell_type": "code",
   "execution_count": 22,
   "metadata": {
    "scrolled": false
   },
   "outputs": [
    {
     "data": {
      "text/plain": [
       "airline_name\n",
       "Southwest Airlines Co.    4297\n",
       "dtype: int64"
      ]
     },
     "execution_count": 22,
     "metadata": {},
     "output_type": "execute_result"
    }
   ],
   "source": [
    "# Now, we can group by airline_name\n",
    "# take count of rows using the size function\n",
    "# sort the data by the count\n",
    "# and slice out the top row\n",
    "dfq1.groupby('airline_name').size().sort_values(ascending=False)[:1]"
   ]
  },
  {
   "cell_type": "code",
   "execution_count": 23,
   "metadata": {},
   "outputs": [],
   "source": [
    "# Let's store the name and value separately (of the top most airline)\n",
    "airline_name = dfq1.groupby('airline_name').size().sort_values(ascending=False).index[0]\n",
    "value = dfq1.groupby('airline_name').size().sort_values(ascending=False).values[0]"
   ]
  },
  {
   "cell_type": "code",
   "execution_count": 25,
   "metadata": {},
   "outputs": [
    {
     "name": "stdout",
     "output_type": "stream",
     "text": [
      "Airline Southwest Airlines Co. is the busiest in terms of volume having trip count = 4297\n"
     ]
    }
   ],
   "source": [
    "# Let's print the final result in a readable format\n",
    "print(\"Airline %s is the busiest in terms of volume having trip count = %d\"%(airline_name,value))"
   ]
  },
  {
   "cell_type": "markdown",
   "metadata": {},
   "source": [
    "## Question : 2"
   ]
  },
  {
   "cell_type": "markdown",
   "metadata": {},
   "source": [
    "* Which city is busiest in terms of traffic?\n",
    "    * Please note that you need to print out the city names against the traffic number and not just the airport name\n",
    "    * Ex. an airport name entry looks like : **New York, NY: John F Kennedy International**. The city name from this entry is **New York** "
   ]
  },
  {
   "cell_type": "code",
   "execution_count": 26,
   "metadata": {},
   "outputs": [
    {
     "name": "stdout",
     "output_type": "stream",
     "text": [
      "<class 'pandas.core.series.Series'>\n"
     ]
    },
    {
     "data": {
      "text/plain": [
       "OriginCode\n",
       "ABE     13\n",
       "ABI     17\n",
       "ABQ    169\n",
       "dtype: int64"
      ]
     },
     "execution_count": 26,
     "metadata": {},
     "output_type": "execute_result"
    }
   ],
   "source": [
    "# Step 1 : Take count of trips by source city = This gives the departure count by city\n",
    "df_dep = dfq1.groupby('OriginCode').size()\n",
    "print(type(df_dep))\n",
    "df_dep[:3]"
   ]
  },
  {
   "cell_type": "code",
   "execution_count": 27,
   "metadata": {},
   "outputs": [
    {
     "name": "stdout",
     "output_type": "stream",
     "text": [
      "<class 'pandas.core.series.Series'>\n"
     ]
    },
    {
     "data": {
      "text/plain": [
       "DestCode\n",
       "ABE     23\n",
       "ABI      7\n",
       "ABQ    146\n",
       "dtype: int64"
      ]
     },
     "execution_count": 27,
     "metadata": {},
     "output_type": "execute_result"
    }
   ],
   "source": [
    "# Step 2 : Repeat the above by destination city = This gives the arrival count by city\n",
    "df_arr = dfq1.groupby('DestCode').size()\n",
    "print(type(df_arr))\n",
    "df_arr[:3]"
   ]
  },
  {
   "cell_type": "code",
   "execution_count": 28,
   "metadata": {},
   "outputs": [],
   "source": [
    "# To calculate total traffic, total arrivals and departures need to be added up \n",
    "# Let's create a new series which is a sum total of departure series and arrival series\n",
    "df_tot = df_dep.add(df_arr)"
   ]
  },
  {
   "cell_type": "code",
   "execution_count": 29,
   "metadata": {
    "scrolled": true
   },
   "outputs": [
    {
     "name": "stderr",
     "output_type": "stream",
     "text": [
      "C:\\ProgramData\\Anaconda3\\lib\\site-packages\\ipykernel_launcher.py:3: FutureWarning: Sorting because non-concatenation axis is not aligned. A future version\n",
      "of pandas will change to not sort by default.\n",
      "\n",
      "To accept the future behavior, pass 'sort=False'.\n",
      "\n",
      "To retain the current behavior and silence the warning, pass 'sort=True'.\n",
      "\n",
      "  This is separate from the ipykernel package so we can avoid doing imports until\n"
     ]
    }
   ],
   "source": [
    "# Now, let's create a dataframe which would include the 3 series : departures, arrivals and totals\n",
    "# We also do a reset index at the end as this process would set the series starting from 0\n",
    "final_df = pd.concat([df_dep,df_arr,df_tot], axis=1).reset_index()"
   ]
  },
  {
   "cell_type": "code",
   "execution_count": 31,
   "metadata": {},
   "outputs": [],
   "source": [
    "final_df.columns = ['City_Code','#Departures','#Arrivals','Total Traffic']"
   ]
  },
  {
   "cell_type": "code",
   "execution_count": 32,
   "metadata": {
    "scrolled": true
   },
   "outputs": [
    {
     "data": {
      "text/html": [
       "<div>\n",
       "<style scoped>\n",
       "    .dataframe tbody tr th:only-of-type {\n",
       "        vertical-align: middle;\n",
       "    }\n",
       "\n",
       "    .dataframe tbody tr th {\n",
       "        vertical-align: top;\n",
       "    }\n",
       "\n",
       "    .dataframe thead th {\n",
       "        text-align: right;\n",
       "    }\n",
       "</style>\n",
       "<table border=\"1\" class=\"dataframe\">\n",
       "  <thead>\n",
       "    <tr style=\"text-align: right;\">\n",
       "      <th></th>\n",
       "      <th>City_Code</th>\n",
       "      <th>#Departures</th>\n",
       "      <th>#Arrivals</th>\n",
       "      <th>Total Traffic</th>\n",
       "    </tr>\n",
       "  </thead>\n",
       "  <tbody>\n",
       "    <tr>\n",
       "      <th>0</th>\n",
       "      <td>ABE</td>\n",
       "      <td>13.0</td>\n",
       "      <td>23.0</td>\n",
       "      <td>36.0</td>\n",
       "    </tr>\n",
       "    <tr>\n",
       "      <th>1</th>\n",
       "      <td>ABI</td>\n",
       "      <td>17.0</td>\n",
       "      <td>7.0</td>\n",
       "      <td>24.0</td>\n",
       "    </tr>\n",
       "    <tr>\n",
       "      <th>2</th>\n",
       "      <td>ABQ</td>\n",
       "      <td>169.0</td>\n",
       "      <td>146.0</td>\n",
       "      <td>315.0</td>\n",
       "    </tr>\n",
       "    <tr>\n",
       "      <th>3</th>\n",
       "      <td>ABY</td>\n",
       "      <td>4.0</td>\n",
       "      <td>3.0</td>\n",
       "      <td>7.0</td>\n",
       "    </tr>\n",
       "    <tr>\n",
       "      <th>4</th>\n",
       "      <td>ACK</td>\n",
       "      <td>2.0</td>\n",
       "      <td>2.0</td>\n",
       "      <td>4.0</td>\n",
       "    </tr>\n",
       "  </tbody>\n",
       "</table>\n",
       "</div>"
      ],
      "text/plain": [
       "  City_Code  #Departures  #Arrivals  Total Traffic\n",
       "0       ABE         13.0       23.0           36.0\n",
       "1       ABI         17.0        7.0           24.0\n",
       "2       ABQ        169.0      146.0          315.0\n",
       "3       ABY          4.0        3.0            7.0\n",
       "4       ACK          2.0        2.0            4.0"
      ]
     },
     "execution_count": 32,
     "metadata": {},
     "output_type": "execute_result"
    }
   ],
   "source": [
    "# Let's look at first few rows of the dataframe\n",
    "final_df.head()"
   ]
  },
  {
   "cell_type": "code",
   "execution_count": 45,
   "metadata": {},
   "outputs": [
    {
     "data": {
      "text/html": [
       "<div>\n",
       "<style scoped>\n",
       "    .dataframe tbody tr th:only-of-type {\n",
       "        vertical-align: middle;\n",
       "    }\n",
       "\n",
       "    .dataframe tbody tr th {\n",
       "        vertical-align: top;\n",
       "    }\n",
       "\n",
       "    .dataframe thead th {\n",
       "        text-align: right;\n",
       "    }\n",
       "</style>\n",
       "<table border=\"1\" class=\"dataframe\">\n",
       "  <thead>\n",
       "    <tr style=\"text-align: right;\">\n",
       "      <th></th>\n",
       "      <th>Code</th>\n",
       "      <th>Description</th>\n",
       "    </tr>\n",
       "  </thead>\n",
       "  <tbody>\n",
       "    <tr>\n",
       "      <th>0</th>\n",
       "      <td>01A</td>\n",
       "      <td>Afognak Lake, AK: Afognak Lake Airport</td>\n",
       "    </tr>\n",
       "    <tr>\n",
       "      <th>1</th>\n",
       "      <td>03A</td>\n",
       "      <td>Granite Mountain, AK: Bear Creek Mining Strip</td>\n",
       "    </tr>\n",
       "    <tr>\n",
       "      <th>2</th>\n",
       "      <td>04A</td>\n",
       "      <td>Lik, AK: Lik Mining Camp</td>\n",
       "    </tr>\n",
       "    <tr>\n",
       "      <th>3</th>\n",
       "      <td>05A</td>\n",
       "      <td>Little Squaw, AK: Little Squaw Airport</td>\n",
       "    </tr>\n",
       "    <tr>\n",
       "      <th>4</th>\n",
       "      <td>06A</td>\n",
       "      <td>Kizhuyak, AK: Kizhuyak Bay</td>\n",
       "    </tr>\n",
       "  </tbody>\n",
       "</table>\n",
       "</div>"
      ],
      "text/plain": [
       "  Code                                    Description\n",
       "0  01A         Afognak Lake, AK: Afognak Lake Airport\n",
       "1  03A  Granite Mountain, AK: Bear Creek Mining Strip\n",
       "2  04A                       Lik, AK: Lik Mining Camp\n",
       "3  05A         Little Squaw, AK: Little Squaw Airport\n",
       "4  06A                     Kizhuyak, AK: Kizhuyak Bay"
      ]
     },
     "execution_count": 45,
     "metadata": {},
     "output_type": "execute_result"
    }
   ],
   "source": [
    "# join with arp dataframe to fetch names of cities\n",
    "arp.head()"
   ]
  },
  {
   "cell_type": "code",
   "execution_count": 46,
   "metadata": {},
   "outputs": [],
   "source": [
    "#again splitting the description column as done before\n",
    "arp[['city','airport_name']] = arp['Description'].str.split(':',expand = True)"
   ]
  },
  {
   "cell_type": "code",
   "execution_count": 47,
   "metadata": {},
   "outputs": [
    {
     "data": {
      "text/html": [
       "<div>\n",
       "<style scoped>\n",
       "    .dataframe tbody tr th:only-of-type {\n",
       "        vertical-align: middle;\n",
       "    }\n",
       "\n",
       "    .dataframe tbody tr th {\n",
       "        vertical-align: top;\n",
       "    }\n",
       "\n",
       "    .dataframe thead th {\n",
       "        text-align: right;\n",
       "    }\n",
       "</style>\n",
       "<table border=\"1\" class=\"dataframe\">\n",
       "  <thead>\n",
       "    <tr style=\"text-align: right;\">\n",
       "      <th></th>\n",
       "      <th>Code</th>\n",
       "      <th>Description</th>\n",
       "      <th>city</th>\n",
       "      <th>airport_name</th>\n",
       "    </tr>\n",
       "  </thead>\n",
       "  <tbody>\n",
       "    <tr>\n",
       "      <th>0</th>\n",
       "      <td>01A</td>\n",
       "      <td>Afognak Lake, AK: Afognak Lake Airport</td>\n",
       "      <td>Afognak Lake, AK</td>\n",
       "      <td>Afognak Lake Airport</td>\n",
       "    </tr>\n",
       "    <tr>\n",
       "      <th>1</th>\n",
       "      <td>03A</td>\n",
       "      <td>Granite Mountain, AK: Bear Creek Mining Strip</td>\n",
       "      <td>Granite Mountain, AK</td>\n",
       "      <td>Bear Creek Mining Strip</td>\n",
       "    </tr>\n",
       "    <tr>\n",
       "      <th>2</th>\n",
       "      <td>04A</td>\n",
       "      <td>Lik, AK: Lik Mining Camp</td>\n",
       "      <td>Lik, AK</td>\n",
       "      <td>Lik Mining Camp</td>\n",
       "    </tr>\n",
       "    <tr>\n",
       "      <th>3</th>\n",
       "      <td>05A</td>\n",
       "      <td>Little Squaw, AK: Little Squaw Airport</td>\n",
       "      <td>Little Squaw, AK</td>\n",
       "      <td>Little Squaw Airport</td>\n",
       "    </tr>\n",
       "    <tr>\n",
       "      <th>4</th>\n",
       "      <td>06A</td>\n",
       "      <td>Kizhuyak, AK: Kizhuyak Bay</td>\n",
       "      <td>Kizhuyak, AK</td>\n",
       "      <td>Kizhuyak Bay</td>\n",
       "    </tr>\n",
       "  </tbody>\n",
       "</table>\n",
       "</div>"
      ],
      "text/plain": [
       "  Code                                    Description                  city  \\\n",
       "0  01A         Afognak Lake, AK: Afognak Lake Airport      Afognak Lake, AK   \n",
       "1  03A  Granite Mountain, AK: Bear Creek Mining Strip  Granite Mountain, AK   \n",
       "2  04A                       Lik, AK: Lik Mining Camp               Lik, AK   \n",
       "3  05A         Little Squaw, AK: Little Squaw Airport      Little Squaw, AK   \n",
       "4  06A                     Kizhuyak, AK: Kizhuyak Bay          Kizhuyak, AK   \n",
       "\n",
       "               airport_name  \n",
       "0      Afognak Lake Airport  \n",
       "1   Bear Creek Mining Strip  \n",
       "2           Lik Mining Camp  \n",
       "3      Little Squaw Airport  \n",
       "4              Kizhuyak Bay  "
      ]
     },
     "execution_count": 47,
     "metadata": {},
     "output_type": "execute_result"
    }
   ],
   "source": [
    "arp.head()"
   ]
  },
  {
   "cell_type": "code",
   "execution_count": 48,
   "metadata": {},
   "outputs": [],
   "source": [
    "# split the city column further to fetch the first value\n",
    "# please note the argument 1 below. This means fetch the value at the \"first\" occurrence of \",\"\n",
    "arp[['city_name','state_code']] = arp['city'].str.split(',',1,expand = True)"
   ]
  },
  {
   "cell_type": "code",
   "execution_count": 49,
   "metadata": {},
   "outputs": [
    {
     "data": {
      "text/html": [
       "<div>\n",
       "<style scoped>\n",
       "    .dataframe tbody tr th:only-of-type {\n",
       "        vertical-align: middle;\n",
       "    }\n",
       "\n",
       "    .dataframe tbody tr th {\n",
       "        vertical-align: top;\n",
       "    }\n",
       "\n",
       "    .dataframe thead th {\n",
       "        text-align: right;\n",
       "    }\n",
       "</style>\n",
       "<table border=\"1\" class=\"dataframe\">\n",
       "  <thead>\n",
       "    <tr style=\"text-align: right;\">\n",
       "      <th></th>\n",
       "      <th>Code</th>\n",
       "      <th>Description</th>\n",
       "      <th>city</th>\n",
       "      <th>airport_name</th>\n",
       "      <th>city_name</th>\n",
       "      <th>state_code</th>\n",
       "    </tr>\n",
       "  </thead>\n",
       "  <tbody>\n",
       "    <tr>\n",
       "      <th>0</th>\n",
       "      <td>01A</td>\n",
       "      <td>Afognak Lake, AK: Afognak Lake Airport</td>\n",
       "      <td>Afognak Lake, AK</td>\n",
       "      <td>Afognak Lake Airport</td>\n",
       "      <td>Afognak Lake</td>\n",
       "      <td>AK</td>\n",
       "    </tr>\n",
       "    <tr>\n",
       "      <th>1</th>\n",
       "      <td>03A</td>\n",
       "      <td>Granite Mountain, AK: Bear Creek Mining Strip</td>\n",
       "      <td>Granite Mountain, AK</td>\n",
       "      <td>Bear Creek Mining Strip</td>\n",
       "      <td>Granite Mountain</td>\n",
       "      <td>AK</td>\n",
       "    </tr>\n",
       "    <tr>\n",
       "      <th>2</th>\n",
       "      <td>04A</td>\n",
       "      <td>Lik, AK: Lik Mining Camp</td>\n",
       "      <td>Lik, AK</td>\n",
       "      <td>Lik Mining Camp</td>\n",
       "      <td>Lik</td>\n",
       "      <td>AK</td>\n",
       "    </tr>\n",
       "    <tr>\n",
       "      <th>3</th>\n",
       "      <td>05A</td>\n",
       "      <td>Little Squaw, AK: Little Squaw Airport</td>\n",
       "      <td>Little Squaw, AK</td>\n",
       "      <td>Little Squaw Airport</td>\n",
       "      <td>Little Squaw</td>\n",
       "      <td>AK</td>\n",
       "    </tr>\n",
       "    <tr>\n",
       "      <th>4</th>\n",
       "      <td>06A</td>\n",
       "      <td>Kizhuyak, AK: Kizhuyak Bay</td>\n",
       "      <td>Kizhuyak, AK</td>\n",
       "      <td>Kizhuyak Bay</td>\n",
       "      <td>Kizhuyak</td>\n",
       "      <td>AK</td>\n",
       "    </tr>\n",
       "  </tbody>\n",
       "</table>\n",
       "</div>"
      ],
      "text/plain": [
       "  Code                                    Description                  city  \\\n",
       "0  01A         Afognak Lake, AK: Afognak Lake Airport      Afognak Lake, AK   \n",
       "1  03A  Granite Mountain, AK: Bear Creek Mining Strip  Granite Mountain, AK   \n",
       "2  04A                       Lik, AK: Lik Mining Camp               Lik, AK   \n",
       "3  05A         Little Squaw, AK: Little Squaw Airport      Little Squaw, AK   \n",
       "4  06A                     Kizhuyak, AK: Kizhuyak Bay          Kizhuyak, AK   \n",
       "\n",
       "               airport_name         city_name state_code  \n",
       "0      Afognak Lake Airport      Afognak Lake         AK  \n",
       "1   Bear Creek Mining Strip  Granite Mountain         AK  \n",
       "2           Lik Mining Camp               Lik         AK  \n",
       "3      Little Squaw Airport      Little Squaw         AK  \n",
       "4              Kizhuyak Bay          Kizhuyak         AK  "
      ]
     },
     "execution_count": 49,
     "metadata": {},
     "output_type": "execute_result"
    }
   ],
   "source": [
    "arp.head()"
   ]
  },
  {
   "cell_type": "code",
   "execution_count": 50,
   "metadata": {},
   "outputs": [],
   "source": [
    "# get rid of columns which are not required\n",
    "arp.drop(['Description','city','airport_name','state_code'],axis = 1,inplace=True)"
   ]
  },
  {
   "cell_type": "code",
   "execution_count": 51,
   "metadata": {},
   "outputs": [
    {
     "data": {
      "text/html": [
       "<div>\n",
       "<style scoped>\n",
       "    .dataframe tbody tr th:only-of-type {\n",
       "        vertical-align: middle;\n",
       "    }\n",
       "\n",
       "    .dataframe tbody tr th {\n",
       "        vertical-align: top;\n",
       "    }\n",
       "\n",
       "    .dataframe thead th {\n",
       "        text-align: right;\n",
       "    }\n",
       "</style>\n",
       "<table border=\"1\" class=\"dataframe\">\n",
       "  <thead>\n",
       "    <tr style=\"text-align: right;\">\n",
       "      <th></th>\n",
       "      <th>Code</th>\n",
       "      <th>city_name</th>\n",
       "    </tr>\n",
       "  </thead>\n",
       "  <tbody>\n",
       "    <tr>\n",
       "      <th>0</th>\n",
       "      <td>01A</td>\n",
       "      <td>Afognak Lake</td>\n",
       "    </tr>\n",
       "    <tr>\n",
       "      <th>1</th>\n",
       "      <td>03A</td>\n",
       "      <td>Granite Mountain</td>\n",
       "    </tr>\n",
       "    <tr>\n",
       "      <th>2</th>\n",
       "      <td>04A</td>\n",
       "      <td>Lik</td>\n",
       "    </tr>\n",
       "    <tr>\n",
       "      <th>3</th>\n",
       "      <td>05A</td>\n",
       "      <td>Little Squaw</td>\n",
       "    </tr>\n",
       "    <tr>\n",
       "      <th>4</th>\n",
       "      <td>06A</td>\n",
       "      <td>Kizhuyak</td>\n",
       "    </tr>\n",
       "  </tbody>\n",
       "</table>\n",
       "</div>"
      ],
      "text/plain": [
       "  Code         city_name\n",
       "0  01A      Afognak Lake\n",
       "1  03A  Granite Mountain\n",
       "2  04A               Lik\n",
       "3  05A      Little Squaw\n",
       "4  06A          Kizhuyak"
      ]
     },
     "execution_count": 51,
     "metadata": {},
     "output_type": "execute_result"
    }
   ],
   "source": [
    "arp.head()"
   ]
  },
  {
   "cell_type": "code",
   "execution_count": 52,
   "metadata": {
    "scrolled": true
   },
   "outputs": [],
   "source": [
    "# As an hygiene we should ensure there are no whitespaces in the city_name\n",
    "arp['city_name'] = arp['city_name'].str.strip()"
   ]
  },
  {
   "cell_type": "code",
   "execution_count": 53,
   "metadata": {},
   "outputs": [],
   "source": [
    "# Cool, now all that is left is joining with the ar_pf dataframe on City_Code column\n",
    "dfq2 = pd.merge(final_df,arp,left_on='City_Code',right_on='Code',how='left')"
   ]
  },
  {
   "cell_type": "code",
   "execution_count": 54,
   "metadata": {},
   "outputs": [
    {
     "data": {
      "text/html": [
       "<div>\n",
       "<style scoped>\n",
       "    .dataframe tbody tr th:only-of-type {\n",
       "        vertical-align: middle;\n",
       "    }\n",
       "\n",
       "    .dataframe tbody tr th {\n",
       "        vertical-align: top;\n",
       "    }\n",
       "\n",
       "    .dataframe thead th {\n",
       "        text-align: right;\n",
       "    }\n",
       "</style>\n",
       "<table border=\"1\" class=\"dataframe\">\n",
       "  <thead>\n",
       "    <tr style=\"text-align: right;\">\n",
       "      <th></th>\n",
       "      <th>City_Code</th>\n",
       "      <th>#Departures</th>\n",
       "      <th>#Arrivals</th>\n",
       "      <th>Total Traffic</th>\n",
       "      <th>Code</th>\n",
       "      <th>city_name</th>\n",
       "    </tr>\n",
       "  </thead>\n",
       "  <tbody>\n",
       "    <tr>\n",
       "      <th>0</th>\n",
       "      <td>ABE</td>\n",
       "      <td>13.0</td>\n",
       "      <td>23.0</td>\n",
       "      <td>36.0</td>\n",
       "      <td>ABE</td>\n",
       "      <td>Allentown/Bethlehem/Easton</td>\n",
       "    </tr>\n",
       "    <tr>\n",
       "      <th>1</th>\n",
       "      <td>ABI</td>\n",
       "      <td>17.0</td>\n",
       "      <td>7.0</td>\n",
       "      <td>24.0</td>\n",
       "      <td>ABI</td>\n",
       "      <td>Abilene</td>\n",
       "    </tr>\n",
       "    <tr>\n",
       "      <th>2</th>\n",
       "      <td>ABQ</td>\n",
       "      <td>169.0</td>\n",
       "      <td>146.0</td>\n",
       "      <td>315.0</td>\n",
       "      <td>NaN</td>\n",
       "      <td>NaN</td>\n",
       "    </tr>\n",
       "    <tr>\n",
       "      <th>3</th>\n",
       "      <td>ABY</td>\n",
       "      <td>4.0</td>\n",
       "      <td>3.0</td>\n",
       "      <td>7.0</td>\n",
       "      <td>ABY</td>\n",
       "      <td>Albany</td>\n",
       "    </tr>\n",
       "    <tr>\n",
       "      <th>4</th>\n",
       "      <td>ACK</td>\n",
       "      <td>2.0</td>\n",
       "      <td>2.0</td>\n",
       "      <td>4.0</td>\n",
       "      <td>ACK</td>\n",
       "      <td>Nantucket</td>\n",
       "    </tr>\n",
       "  </tbody>\n",
       "</table>\n",
       "</div>"
      ],
      "text/plain": [
       "  City_Code  #Departures  #Arrivals  Total Traffic Code  \\\n",
       "0       ABE         13.0       23.0           36.0  ABE   \n",
       "1       ABI         17.0        7.0           24.0  ABI   \n",
       "2       ABQ        169.0      146.0          315.0  NaN   \n",
       "3       ABY          4.0        3.0            7.0  ABY   \n",
       "4       ACK          2.0        2.0            4.0  ACK   \n",
       "\n",
       "                    city_name  \n",
       "0  Allentown/Bethlehem/Easton  \n",
       "1                     Abilene  \n",
       "2                         NaN  \n",
       "3                      Albany  \n",
       "4                   Nantucket  "
      ]
     },
     "execution_count": 54,
     "metadata": {},
     "output_type": "execute_result"
    }
   ],
   "source": [
    "dfq2.head()"
   ]
  },
  {
   "cell_type": "code",
   "execution_count": 55,
   "metadata": {},
   "outputs": [
    {
     "data": {
      "text/html": [
       "<div>\n",
       "<style scoped>\n",
       "    .dataframe tbody tr th:only-of-type {\n",
       "        vertical-align: middle;\n",
       "    }\n",
       "\n",
       "    .dataframe tbody tr th {\n",
       "        vertical-align: top;\n",
       "    }\n",
       "\n",
       "    .dataframe thead th {\n",
       "        text-align: right;\n",
       "    }\n",
       "</style>\n",
       "<table border=\"1\" class=\"dataframe\">\n",
       "  <thead>\n",
       "    <tr style=\"text-align: right;\">\n",
       "      <th></th>\n",
       "      <th>City_Code</th>\n",
       "      <th>#Departures</th>\n",
       "      <th>#Arrivals</th>\n",
       "      <th>Total Traffic</th>\n",
       "      <th>Code</th>\n",
       "      <th>city_name</th>\n",
       "    </tr>\n",
       "  </thead>\n",
       "  <tbody>\n",
       "    <tr>\n",
       "      <th>15</th>\n",
       "      <td>ATL</td>\n",
       "      <td>1524.0</td>\n",
       "      <td>1483.0</td>\n",
       "      <td>3007.0</td>\n",
       "      <td>ATL</td>\n",
       "      <td>Atlanta</td>\n",
       "    </tr>\n",
       "  </tbody>\n",
       "</table>\n",
       "</div>"
      ],
      "text/plain": [
       "   City_Code  #Departures  #Arrivals  Total Traffic Code city_name\n",
       "15       ATL       1524.0     1483.0         3007.0  ATL   Atlanta"
      ]
     },
     "execution_count": 55,
     "metadata": {},
     "output_type": "execute_result"
    }
   ],
   "source": [
    "# We sort the final dataframe to ensure the city with highest traffic comes at the top\n",
    "dfq2.sort_values(by='Total Traffic',ascending=False)[:1]"
   ]
  },
  {
   "cell_type": "code",
   "execution_count": 56,
   "metadata": {},
   "outputs": [],
   "source": [
    "# Let's store the name and value separately (of the top most airline)\n",
    "# iloc index 0 means first row of dataframe, index -1 means last value\n",
    "city_name = dfq2.sort_values(by='Total Traffic',ascending=False).iloc[0][-1]\n",
    "value = dfq2.sort_values(by='Total Traffic',ascending=False).iloc[0][-3]"
   ]
  },
  {
   "cell_type": "code",
   "execution_count": 61,
   "metadata": {},
   "outputs": [
    {
     "name": "stdout",
     "output_type": "stream",
     "text": [
      "Atlanta City is the busiest in terms of traffic with value = 3007\n"
     ]
    }
   ],
   "source": [
    "# Let's print the final result in a readable format\n",
    "print(\"%s City is the busiest in terms of traffic with value = %d\"%(city_name,value))"
   ]
  },
  {
   "cell_type": "markdown",
   "metadata": {},
   "source": [
    "## Question : 3"
   ]
  },
  {
   "cell_type": "markdown",
   "metadata": {},
   "source": [
    "* Which carrier has got the highest air time?"
   ]
  },
  {
   "cell_type": "code",
   "execution_count": 62,
   "metadata": {},
   "outputs": [],
   "source": [
    "# type your code below\n",
    "dfq3 = dfq1.groupby('airline_name')['AirTime'].sum().sort_values(ascending=False)  "
   ]
  },
  {
   "cell_type": "code",
   "execution_count": 63,
   "metadata": {},
   "outputs": [
    {
     "data": {
      "text/plain": [
       "airline_name\n",
       "Southwest Airlines Co.    391738.0\n",
       "American Airlines Inc.    304847.0\n",
       "United Air Lines Inc.     226330.0\n",
       "Delta Air Lines Inc.      202495.0\n",
       "NA                        186664.0\n",
       "Name: AirTime, dtype: float64"
      ]
     },
     "execution_count": 63,
     "metadata": {},
     "output_type": "execute_result"
    }
   ],
   "source": [
    "dfq3.head()"
   ]
  },
  {
   "cell_type": "code",
   "execution_count": 64,
   "metadata": {},
   "outputs": [],
   "source": [
    "# Let's store the name and value separately (of the top most airline)\n",
    "# iloc index 0 means first row of dataframe, index -1 means last value\n",
    "carrier_name = dfq3.index[0]\n",
    "value = dfq3.values[0]"
   ]
  },
  {
   "cell_type": "code",
   "execution_count": 65,
   "metadata": {},
   "outputs": [
    {
     "name": "stdout",
     "output_type": "stream",
     "text": [
      "Airline Southwest Airlines Co. has got the highest airtime with value as 391738 minutes\n"
     ]
    }
   ],
   "source": [
    "# Let's print the final result in a readable format\n",
    "print(\"Airline %s has got the highest airtime with value as %d minutes\"%(carrier_name,value))"
   ]
  },
  {
   "cell_type": "markdown",
   "metadata": {},
   "source": [
    "## Question : 4"
   ]
  },
  {
   "cell_type": "markdown",
   "metadata": {},
   "source": [
    "* List top 5 cities which are busiest in terms of average flights handled per day for the month of June?"
   ]
  },
  {
   "cell_type": "code",
   "execution_count": 159,
   "metadata": {},
   "outputs": [],
   "source": [
    "# let's first find out how many inbound or outbound flights are there for every city for each day of the month\n",
    "# Let's look for all departures first, and then arrivals\n",
    "dep_jun = ar_pf[ar_pf['Month'] == 6].groupby(['OriginCode','DayofMonth']).size()\n",
    "arr_jun = ar_pf[ar_pf['Month'] == 6].groupby(['DestCode','DayofMonth']).size()"
   ]
  },
  {
   "cell_type": "code",
   "execution_count": 160,
   "metadata": {},
   "outputs": [],
   "source": [
    "# let's convert both series obtained above to pandas dataframes\n",
    "dep_jun = pd.DataFrame(dep_jun)\n",
    "arr_jun = pd.DataFrame(arr_jun)"
   ]
  },
  {
   "cell_type": "code",
   "execution_count": 161,
   "metadata": {},
   "outputs": [],
   "source": [
    "# let's give a meaningful name to columns in both dataframes\n",
    "dep_jun.columns =['#Departures']\n",
    "arr_jun.columns =['#Arrivals']"
   ]
  },
  {
   "cell_type": "code",
   "execution_count": 162,
   "metadata": {},
   "outputs": [],
   "source": [
    "# Since both dataframes have hierarchical index, in order to perform join between them, the hierarchical indices\n",
    "# need to be converted to columns first\n",
    "# We use the reset_index function for this purpose\n",
    "dep_jun.reset_index(inplace=True)\n",
    "arr_jun.reset_index(inplace=True)"
   ]
  },
  {
   "cell_type": "code",
   "execution_count": 134,
   "metadata": {},
   "outputs": [],
   "source": [
    "# We are good to join the 2 dataframes now\n",
    "final = pd.merge(dep_jun,arr_jun,left_on=['OriginCode','DayofMonth']\n",
    "                 ,right_on=['DestCode','DayofMonth']\n",
    "                 ,how='outer')"
   ]
  },
  {
   "cell_type": "code",
   "execution_count": 136,
   "metadata": {},
   "outputs": [],
   "source": [
    "# let's fill all null values for #Departures or #Arrivals columns to 0\n",
    "final['#Departures'].fillna(0,inplace = True)\n",
    "final['#Arrivals'].fillna(0,inplace = True)"
   ]
  },
  {
   "cell_type": "code",
   "execution_count": 163,
   "metadata": {},
   "outputs": [],
   "source": [
    "# Now let's calculate the total traffic column\n",
    "final['Total_Traffic'] = final['#Departures'] + final['#Arrivals']"
   ]
  },
  {
   "cell_type": "code",
   "execution_count": 164,
   "metadata": {},
   "outputs": [],
   "source": [
    "# Since, Either the Origin City or the Destination City can be blank at a time, let's do a coalesce of the two columns\n",
    "# to obtain the new column City\n",
    "final['City'] = final['OriginCode'].combine_first(final['DestCode'])"
   ]
  },
  {
   "cell_type": "code",
   "execution_count": 165,
   "metadata": {},
   "outputs": [],
   "source": [
    "# Finally, we'll group by city and calculate the total traffic and total no. of days flights occurred\n",
    "result = final.groupby('City')['Total_Traffic','DayofMonth'].agg({'Total_Traffic':np.sum\n",
    "                                    ,'DayofMonth':lambda x:x.nunique()})"
   ]
  },
  {
   "cell_type": "code",
   "execution_count": 167,
   "metadata": {},
   "outputs": [],
   "source": [
    "# let's calculate the average as asked in the question\n",
    "result['Average'] = result['Total_Traffic']/result['DayofMonth']"
   ]
  },
  {
   "cell_type": "code",
   "execution_count": 168,
   "metadata": {},
   "outputs": [
    {
     "data": {
      "text/html": [
       "<div>\n",
       "<style scoped>\n",
       "    .dataframe tbody tr th:only-of-type {\n",
       "        vertical-align: middle;\n",
       "    }\n",
       "\n",
       "    .dataframe tbody tr th {\n",
       "        vertical-align: top;\n",
       "    }\n",
       "\n",
       "    .dataframe thead th {\n",
       "        text-align: right;\n",
       "    }\n",
       "</style>\n",
       "<table border=\"1\" class=\"dataframe\">\n",
       "  <thead>\n",
       "    <tr style=\"text-align: right;\">\n",
       "      <th></th>\n",
       "      <th>Total_Traffic</th>\n",
       "      <th>DayofMonth</th>\n",
       "      <th>Average</th>\n",
       "    </tr>\n",
       "    <tr>\n",
       "      <th>City</th>\n",
       "      <th></th>\n",
       "      <th></th>\n",
       "      <th></th>\n",
       "    </tr>\n",
       "  </thead>\n",
       "  <tbody>\n",
       "    <tr>\n",
       "      <th>ATL</th>\n",
       "      <td>218.0</td>\n",
       "      <td>30</td>\n",
       "      <td>7.266667</td>\n",
       "    </tr>\n",
       "    <tr>\n",
       "      <th>ORD</th>\n",
       "      <td>210.0</td>\n",
       "      <td>30</td>\n",
       "      <td>7.000000</td>\n",
       "    </tr>\n",
       "    <tr>\n",
       "      <th>DFW</th>\n",
       "      <td>179.0</td>\n",
       "      <td>30</td>\n",
       "      <td>5.966667</td>\n",
       "    </tr>\n",
       "    <tr>\n",
       "      <th>DEN</th>\n",
       "      <td>162.0</td>\n",
       "      <td>30</td>\n",
       "      <td>5.400000</td>\n",
       "    </tr>\n",
       "    <tr>\n",
       "      <th>LAX</th>\n",
       "      <td>140.0</td>\n",
       "      <td>30</td>\n",
       "      <td>4.666667</td>\n",
       "    </tr>\n",
       "  </tbody>\n",
       "</table>\n",
       "</div>"
      ],
      "text/plain": [
       "      Total_Traffic  DayofMonth   Average\n",
       "City                                     \n",
       "ATL           218.0          30  7.266667\n",
       "ORD           210.0          30  7.000000\n",
       "DFW           179.0          30  5.966667\n",
       "DEN           162.0          30  5.400000\n",
       "LAX           140.0          30  4.666667"
      ]
     },
     "execution_count": 168,
     "metadata": {},
     "output_type": "execute_result"
    }
   ],
   "source": [
    "# sort the final result by Average in descending order and slice to fetch the top 5\n",
    "result.sort_values(by='Average',ascending=False)[:5]"
   ]
  },
  {
   "cell_type": "code",
   "execution_count": 173,
   "metadata": {},
   "outputs": [],
   "source": [
    "# Only thing left out is to join the City column with dfq2 to fetch exact city names\n",
    "# Join the dataframe result with dfq2 dataframe (as shown above)\n",
    "# created in the previous question to fetch the city names"
   ]
  },
  {
   "cell_type": "markdown",
   "metadata": {},
   "source": [
    "## Question 6 : "
   ]
  },
  {
   "cell_type": "markdown",
   "metadata": {},
   "source": [
    "* Are weekends busier than weekdays?"
   ]
  },
  {
   "cell_type": "code",
   "execution_count": 12,
   "metadata": {},
   "outputs": [],
   "source": [
    "# type your code below\n"
   ]
  },
  {
   "cell_type": "markdown",
   "metadata": {},
   "source": [
    "## Question 7 :"
   ]
  },
  {
   "cell_type": "markdown",
   "metadata": {},
   "source": [
    "* Longer duration flights have a larger tendency to have arrival delays. Analyze the hypothesis with appropriate visuals"
   ]
  },
  {
   "cell_type": "code",
   "execution_count": 13,
   "metadata": {},
   "outputs": [],
   "source": [
    "# type your code below\n"
   ]
  },
  {
   "cell_type": "markdown",
   "metadata": {},
   "source": [
    "## Question 8 : "
   ]
  },
  {
   "cell_type": "markdown",
   "metadata": {},
   "source": [
    "* Consider the below bucketing logic for \"Actual departure Time\" :\n",
    "    * Any flight departing between 4am - 12pm : Morning flight\n",
    "    * Any flight departing between 12pm - 4pm : Afternoon flight\n",
    "    * Any flight departing between 4pm - 9pm : Evening flight\n",
    "    * Any flight departing between 9pm - 4am : Night flight\n",
    "* Based on the above logic, answer the below questions : \n",
    "    * Which time of the day observes highest departure delays?\n",
    "    * Create a pivot table with time of day in rows and type of delay in columns and #of occurrences in values\n",
    "    * Which type of delay is most frequent in evening flights?\n",
    "    * Which airport sees the highest occurrences of security related delay in the morning?"
   ]
  },
  {
   "cell_type": "code",
   "execution_count": 14,
   "metadata": {},
   "outputs": [],
   "source": [
    "# type your code below\n"
   ]
  },
  {
   "cell_type": "markdown",
   "metadata": {},
   "source": [
    "## Question 9 :"
   ]
  },
  {
   "cell_type": "markdown",
   "metadata": {},
   "source": [
    "* Consider the term \"delay\" as :\n",
    "    * Any flight arriving more than 15 min later than the expected arrival time is considered \"arrival delay\"\n",
    "    * Any flight departing more than 15 min later than the expected departure time is considered \"departure delay\"\n",
    "    * A flight is considered delayed when any one of the above conditions is true\n",
    "    * Based on the above, answer the below questions :\n",
    "        * Which airline carriers have caused the highest % of delays?\n",
    "        * Which airports are facing the highest % of delayed flights?"
   ]
  },
  {
   "cell_type": "code",
   "execution_count": null,
   "metadata": {},
   "outputs": [],
   "source": [
    "# type your code below\n"
   ]
  },
  {
   "cell_type": "markdown",
   "metadata": {},
   "source": [
    "## Question : 10"
   ]
  },
  {
   "cell_type": "markdown",
   "metadata": {},
   "source": [
    "* List down top 10 cities in terms of total traffic between June and September\n",
    "* Please note : Total traffic = Total #arrivals + Total #departures"
   ]
  },
  {
   "cell_type": "code",
   "execution_count": 15,
   "metadata": {},
   "outputs": [],
   "source": [
    "# type your code below\n"
   ]
  }
 ],
 "metadata": {
  "kernelspec": {
   "display_name": "Python 3",
   "language": "python",
   "name": "python3"
  },
  "language_info": {
   "codemirror_mode": {
    "name": "ipython",
    "version": 3
   },
   "file_extension": ".py",
   "mimetype": "text/x-python",
   "name": "python",
   "nbconvert_exporter": "python",
   "pygments_lexer": "ipython3",
   "version": "3.7.3"
  }
 },
 "nbformat": 4,
 "nbformat_minor": 1
}
