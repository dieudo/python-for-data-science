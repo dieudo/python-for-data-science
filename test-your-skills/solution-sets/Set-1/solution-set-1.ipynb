{
  "cells": [
    {
      "metadata": {},
      "cell_type": "markdown",
      "source": "# Python data manipulation exercise - Airline Performance Analysis"
    },
    {
      "metadata": {},
      "cell_type": "markdown",
      "source": "## Problem\n\nAirlines are always run on tight schedules and very thin operating margins. To top this, the customers are extremely demanding expecting their flights to be on time always. Airline carriers try to overcome this challenge by detailed planning and prompt execution. However, there are factors like weather, technical glitches, unexpected challenges at airports which end up causing delay in arrival or departure of aircrafts. Since, the flights hop multiple cities any delay caused at one nodal city adds up and results in significant delays in subsequent stoppages if not taken care of early. \n\n## What is expected from you?\nYou have been provided with 3 datasets : \n1. airline-performance.csv\n2. air-carrier-details.csv\n3. airports.csv\n\nBelow are a set of questions of interest related to the problem statement at hand. Leverage your Python data wrangling skills to solve them"
    },
    {
      "metadata": {},
      "cell_type": "markdown",
      "source": "<a id=\"home\"></a>\n## Quick reference to solutions : \n* [Solution : Question-1](#q1)\n* [Solution : Question-2](#q2)\n* [Solution : Question-3](#q3)\n* [Solution : Question-4](#q4)\n* [Solution : Question-5](#q5)\n* [Solution : Question-6](#q6)\n* [Soluion : Question-7](#q7)\n* [Solution : Question-8](#q8)\n* [Solution : Question-9](#q9)\n* [Solution : Question-10](#q10)"
    },
    {
      "metadata": {
        "trusted": true
      },
      "cell_type": "code",
      "source": "file_path = '../../problem-sets/Set-1/data'",
      "execution_count": null,
      "outputs": []
    },
    {
      "metadata": {
        "trusted": true
      },
      "cell_type": "code",
      "source": "# Let us read the datasets first\nimport pandas as pd\nar_pf = pd.read_csv(file_path+'/airline-performance.csv')\nar_cr = pd.read_csv(file_path+'/air-carrier-details.csv')\narp = pd.read_csv(file_path+'/airports.csv')",
      "execution_count": null,
      "outputs": []
    },
    {
      "metadata": {
        "trusted": true
      },
      "cell_type": "code",
      "source": "# let's read the columns of airline-performance dataset\nar_pf.columns",
      "execution_count": null,
      "outputs": []
    },
    {
      "metadata": {},
      "cell_type": "markdown",
      "source": "<a id=\"q1\"></a>\n[Go Back](#home)\n## Question : 1"
    },
    {
      "metadata": {},
      "cell_type": "markdown",
      "source": "* Which airline carrier is busiest in terms of volume?"
    },
    {
      "metadata": {},
      "cell_type": "markdown",
      "source": "Let's analyze the question here. We need to find out the name of the airline carrier\n* Also, busiest in terms of volume would mean calculating count of trips\n* As we find out, each row of the dataset airline-performance corresponds to a trip\n* This dataset also has reference to airline carrier called **UniqueCarrierCode** and refers to the dataset air-carrier-details which has the name of the carrier in the column **Description**"
    },
    {
      "metadata": {
        "trusted": true
      },
      "cell_type": "code",
      "source": "# Let's first look at sample data in the dataframe ar_cr\nar_cr.head()",
      "execution_count": null,
      "outputs": []
    },
    {
      "metadata": {
        "trusted": true
      },
      "cell_type": "code",
      "source": "# Looking at the data above, it seems the value which is required to join with the datasets ar_pf is a part of \n# the Description column\n# We need to extract the letters after the : symbol, which would then be used to join the dataset ar_pf using the \n# column UniqueCarrierCode\n# This can be easily done by the below code\n\nar_cr[['airline_name','airline_code']] = ar_cr['Description'].str.split(':',expand = True)",
      "execution_count": null,
      "outputs": []
    },
    {
      "metadata": {
        "trusted": true
      },
      "cell_type": "code",
      "source": "ar_cr.head()",
      "execution_count": null,
      "outputs": []
    },
    {
      "metadata": {},
      "cell_type": "markdown",
      "source": "Have a look at the reference [here](https://www.geeksforgeeks.org/split-a-text-column-into-two-columns-in-pandas-dataframe/) to understand the above code"
    },
    {
      "metadata": {
        "trusted": true
      },
      "cell_type": "code",
      "source": "# Just for hygiene purposes we strip off all possible whitespaces from the code\nar_cr['airline_code'] = ar_cr['airline_code'].str.strip()",
      "execution_count": null,
      "outputs": []
    },
    {
      "metadata": {
        "scrolled": true,
        "trusted": true
      },
      "cell_type": "code",
      "source": "# Let's now look how the dataframe looks like :\nar_cr.head()",
      "execution_count": null,
      "outputs": []
    },
    {
      "metadata": {
        "trusted": true
      },
      "cell_type": "code",
      "source": "# Cool, now all that is left is joining with the ar_pf dataframe on UniqueCarrierCode column\n# we do this using merge function of pandas\n# Why do we do left join?\ndfq1 = pd.merge(ar_pf,ar_cr,left_on='UniqueCarrierCode',right_on='airline_code',how='left')",
      "execution_count": null,
      "outputs": []
    },
    {
      "metadata": {
        "trusted": true
      },
      "cell_type": "code",
      "source": "# Ok, merge is done. Let's see how the new dataframe looks like\ndfq1.loc[:0,]",
      "execution_count": null,
      "outputs": []
    },
    {
      "metadata": {
        "trusted": true
      },
      "cell_type": "code",
      "source": "# Just a check to see which all columns have missing values (we just did a left join above)\ndfq1.info()",
      "execution_count": null,
      "outputs": []
    },
    {
      "metadata": {
        "trusted": true
      },
      "cell_type": "code",
      "source": "# Let's set missing values in airline_name column with NA\ndfq1['airline_name'].fillna('NA',inplace = True)\n# Why inplace = True above?\n# Because fillna function without inplace = True does not replace the actual data in the dataframe. \n# For the fillna function to take effect inplace = True needs to be supplied",
      "execution_count": null,
      "outputs": []
    },
    {
      "metadata": {
        "scrolled": false,
        "trusted": true
      },
      "cell_type": "code",
      "source": "# Now, we can group by airline_name\n# take count of rows using the size function\n# sort the data by the count\n# and slice out the top row\ndfq1.groupby('airline_name').size().sort_values(ascending=False)[:1]",
      "execution_count": null,
      "outputs": []
    },
    {
      "metadata": {
        "trusted": true
      },
      "cell_type": "code",
      "source": "# Let's store the name and value separately (of the top most airline)\nairline_name = dfq1.groupby('airline_name').size().sort_values(ascending=False).index[0]\nvalue = dfq1.groupby('airline_name').size().sort_values(ascending=False).values[0]",
      "execution_count": null,
      "outputs": []
    },
    {
      "metadata": {
        "trusted": true
      },
      "cell_type": "code",
      "source": "# Let's print the final result in a readable format\nprint(\"Airline %s is the busiest in terms of volume having trip count = %d\"%(airline_name,value))",
      "execution_count": null,
      "outputs": []
    },
    {
      "metadata": {},
      "cell_type": "markdown",
      "source": "<a id=\"q2\"></a>\n[Go Back](#home)\n## Question : 2"
    },
    {
      "metadata": {},
      "cell_type": "markdown",
      "source": "* Which city is busiest in terms of traffic?\n    * Please note that you need to print out the city names against the traffic number and not just the airport name\n    * Ex. an airport name entry looks like : **New York, NY: John F Kennedy International**. The city name from this entry is **New York** "
    },
    {
      "metadata": {
        "trusted": true
      },
      "cell_type": "code",
      "source": "# Step 1 : Take count of trips by source city = This gives the departure count by city\ndf_dep = dfq1.groupby('OriginCode').size()\nprint(type(df_dep))\ndf_dep[:3]",
      "execution_count": null,
      "outputs": []
    },
    {
      "metadata": {
        "trusted": true
      },
      "cell_type": "code",
      "source": "# Step 2 : Repeat the above by destination city = This gives the arrival count by city\ndf_arr = dfq1.groupby('DestCode').size()\nprint(type(df_arr))\ndf_arr[:3]",
      "execution_count": null,
      "outputs": []
    },
    {
      "metadata": {
        "trusted": true
      },
      "cell_type": "code",
      "source": "# To calculate total traffic, total arrivals and departures need to be added up \n# Let's create a new series which is a sum total of departure series and arrival series\ndf_tot = df_dep.add(df_arr)",
      "execution_count": null,
      "outputs": []
    },
    {
      "metadata": {
        "scrolled": true,
        "trusted": true
      },
      "cell_type": "code",
      "source": "# Now, let's create a dataframe which would include the 3 series : departures, arrivals and totals\n# We also do a reset index at the end as this process would set the series starting from 0\nfinal_df = pd.concat([df_dep,df_arr,df_tot], axis=1).reset_index()",
      "execution_count": null,
      "outputs": []
    },
    {
      "metadata": {
        "trusted": true
      },
      "cell_type": "code",
      "source": "final_df.columns = ['City_Code','#Departures','#Arrivals','Total Traffic']",
      "execution_count": null,
      "outputs": []
    },
    {
      "metadata": {
        "scrolled": true,
        "trusted": true
      },
      "cell_type": "code",
      "source": "# Let's look at first few rows of the dataframe\nfinal_df.head()",
      "execution_count": null,
      "outputs": []
    },
    {
      "metadata": {
        "trusted": true
      },
      "cell_type": "code",
      "source": "# join with arp dataframe to fetch names of cities\narp.head()",
      "execution_count": null,
      "outputs": []
    },
    {
      "metadata": {
        "trusted": true
      },
      "cell_type": "code",
      "source": "#again splitting the description column as done before\narp[['city','airport_name']] = arp['Description'].str.split(':',expand = True)",
      "execution_count": null,
      "outputs": []
    },
    {
      "metadata": {
        "trusted": true
      },
      "cell_type": "code",
      "source": "arp.head()",
      "execution_count": null,
      "outputs": []
    },
    {
      "metadata": {
        "trusted": true
      },
      "cell_type": "code",
      "source": "# split the city column further to fetch the first value\n# please note the argument 1 below. This means fetch the value at the \"first\" occurrence of \",\"\narp[['city_name','state_code']] = arp['city'].str.split(',',1,expand = True)",
      "execution_count": null,
      "outputs": []
    },
    {
      "metadata": {
        "trusted": true
      },
      "cell_type": "code",
      "source": "arp.head()",
      "execution_count": null,
      "outputs": []
    },
    {
      "metadata": {
        "trusted": true
      },
      "cell_type": "code",
      "source": "# get rid of columns which are not required\narp.drop(['Description','city','airport_name','state_code'],axis = 1,inplace=True)",
      "execution_count": null,
      "outputs": []
    },
    {
      "metadata": {
        "trusted": true
      },
      "cell_type": "code",
      "source": "arp.head()",
      "execution_count": null,
      "outputs": []
    },
    {
      "metadata": {
        "scrolled": true,
        "trusted": true
      },
      "cell_type": "code",
      "source": "# As an hygiene we should ensure there are no whitespaces in the city_name\narp['city_name'] = arp['city_name'].str.strip()",
      "execution_count": null,
      "outputs": []
    },
    {
      "metadata": {
        "trusted": true
      },
      "cell_type": "code",
      "source": "# Cool, now all that is left is joining with the ar_pf dataframe on City_Code column\ndfq2 = pd.merge(final_df,arp,left_on='City_Code',right_on='Code',how='left')",
      "execution_count": null,
      "outputs": []
    },
    {
      "metadata": {
        "trusted": true
      },
      "cell_type": "code",
      "source": "dfq2.head()",
      "execution_count": null,
      "outputs": []
    },
    {
      "metadata": {
        "trusted": true
      },
      "cell_type": "code",
      "source": "# We sort the final dataframe to ensure the city with highest traffic comes at the top\ndfq2.sort_values(by='Total Traffic',ascending=False)[:1]",
      "execution_count": null,
      "outputs": []
    },
    {
      "metadata": {
        "trusted": true
      },
      "cell_type": "code",
      "source": "# Let's store the name and value separately (of the top most airline)\n# iloc index 0 means first row of dataframe, index -1 means last value\ncity_name = dfq2.sort_values(by='Total Traffic',ascending=False).iloc[0][-1]\nvalue = dfq2.sort_values(by='Total Traffic',ascending=False).iloc[0][-3]",
      "execution_count": null,
      "outputs": []
    },
    {
      "metadata": {
        "trusted": true
      },
      "cell_type": "code",
      "source": "# Let's print the final result in a readable format\nprint(\"%s City is the busiest in terms of traffic with value = %d\"%(city_name,value))",
      "execution_count": null,
      "outputs": []
    },
    {
      "metadata": {},
      "cell_type": "markdown",
      "source": "<a id=\"q3\"></a>\n[Go Back](#home)\n## Question : 3"
    },
    {
      "metadata": {},
      "cell_type": "markdown",
      "source": "* Which carrier has got the highest air time?"
    },
    {
      "metadata": {
        "trusted": true
      },
      "cell_type": "code",
      "source": "# type your code below\ndfq3 = dfq1.groupby('airline_name')['AirTime'].sum().sort_values(ascending=False)  ",
      "execution_count": null,
      "outputs": []
    },
    {
      "metadata": {
        "trusted": true
      },
      "cell_type": "code",
      "source": "dfq3.head()",
      "execution_count": null,
      "outputs": []
    },
    {
      "metadata": {
        "trusted": true
      },
      "cell_type": "code",
      "source": "# Let's store the name and value separately (of the top most airline)\n# iloc index 0 means first row of dataframe, index -1 means last value\ncarrier_name = dfq3.index[0]\nvalue = dfq3.values[0]",
      "execution_count": null,
      "outputs": []
    },
    {
      "metadata": {
        "trusted": true
      },
      "cell_type": "code",
      "source": "# Let's print the final result in a readable format\nprint(\"Airline %s has got the highest airtime with value as %d minutes\"%(carrier_name,value))",
      "execution_count": null,
      "outputs": []
    },
    {
      "metadata": {},
      "cell_type": "markdown",
      "source": "<a id=\"q4\"></a>\n[Go Back](#home)\n## Question : 4"
    },
    {
      "metadata": {},
      "cell_type": "markdown",
      "source": "* List top 5 cities which are busiest in terms of average flights handled per day for the month of June?"
    },
    {
      "metadata": {
        "trusted": true
      },
      "cell_type": "code",
      "source": "# let's first find out how many inbound or outbound flights are there for every city for each day of the month\n# Let's look for all departures first, and then arrivals\ndep_jun = ar_pf[ar_pf['Month'] == 6].groupby(['OriginCode','DayofMonth']).size()\narr_jun = ar_pf[ar_pf['Month'] == 6].groupby(['DestCode','DayofMonth']).size()",
      "execution_count": null,
      "outputs": []
    },
    {
      "metadata": {
        "trusted": true
      },
      "cell_type": "code",
      "source": "# let's convert both series obtained above to pandas dataframes\ndep_jun = pd.DataFrame(dep_jun)\narr_jun = pd.DataFrame(arr_jun)",
      "execution_count": null,
      "outputs": []
    },
    {
      "metadata": {
        "trusted": true
      },
      "cell_type": "code",
      "source": "",
      "execution_count": null,
      "outputs": []
    },
    {
      "metadata": {
        "trusted": true
      },
      "cell_type": "code",
      "source": "# let's give a meaningful name to columns in both dataframes\ndep_jun.columns =['#Departures']\narr_jun.columns =['#Arrivals']",
      "execution_count": null,
      "outputs": []
    },
    {
      "metadata": {
        "trusted": true
      },
      "cell_type": "code",
      "source": "dep_jun.head()",
      "execution_count": null,
      "outputs": []
    },
    {
      "metadata": {
        "trusted": true
      },
      "cell_type": "code",
      "source": "# Since both dataframes have hierarchical index, in order to perform join between them, the hierarchical indices\n# need to be converted to columns first\n# We use the reset_index function for this purpose\ndep_jun.reset_index(inplace=True)\narr_jun.reset_index(inplace=True)",
      "execution_count": null,
      "outputs": []
    },
    {
      "metadata": {
        "trusted": true
      },
      "cell_type": "code",
      "source": "# We are good to join the 2 dataframes now\nfinal = pd.merge(dep_jun,arr_jun,left_on=['OriginCode','DayofMonth']\n                 ,right_on=['DestCode','DayofMonth']\n                 ,how='outer')",
      "execution_count": null,
      "outputs": []
    },
    {
      "metadata": {
        "trusted": true
      },
      "cell_type": "code",
      "source": "# let's fill all null values for #Departures or #Arrivals columns to 0\nfinal['#Departures'].fillna(0,inplace = True)\nfinal['#Arrivals'].fillna(0,inplace = True)",
      "execution_count": null,
      "outputs": []
    },
    {
      "metadata": {
        "trusted": true
      },
      "cell_type": "code",
      "source": "# Now let's calculate the total traffic column\nfinal['Total_Traffic'] = final['#Departures'] + final['#Arrivals']",
      "execution_count": null,
      "outputs": []
    },
    {
      "metadata": {
        "trusted": true
      },
      "cell_type": "code",
      "source": "# Since, Either the Origin City or the Destination City can be blank at a time, let's do a coalesce of the two columns\n# to obtain the new column City\nfinal['City'] = final['OriginCode'].combine_first(final['DestCode'])",
      "execution_count": null,
      "outputs": []
    },
    {
      "metadata": {
        "trusted": true
      },
      "cell_type": "code",
      "source": "final.head()",
      "execution_count": null,
      "outputs": []
    },
    {
      "metadata": {
        "trusted": true
      },
      "cell_type": "code",
      "source": "import numpy as np",
      "execution_count": null,
      "outputs": []
    },
    {
      "metadata": {
        "trusted": true
      },
      "cell_type": "code",
      "source": "# Finally, we'll group by city and calculate the total traffic and total no. of days flights occurred\nresult = final.groupby('City')['Total_Traffic','DayofMonth'].agg({'Total_Traffic':np.sum\n                                    ,'DayofMonth':lambda x:x.nunique()})",
      "execution_count": null,
      "outputs": []
    },
    {
      "metadata": {
        "trusted": true
      },
      "cell_type": "code",
      "source": "# let's calculate the average as asked in the question\nresult['Average'] = result['Total_Traffic']/result['DayofMonth']",
      "execution_count": null,
      "outputs": []
    },
    {
      "metadata": {
        "trusted": true
      },
      "cell_type": "code",
      "source": "# sort the final result by Average in descending order and slice to fetch the top 5\nresult.sort_values(by='Average',ascending=False)[:5]",
      "execution_count": null,
      "outputs": []
    },
    {
      "metadata": {
        "trusted": true
      },
      "cell_type": "code",
      "source": "# Only thing left out is to join the City column with dfq2 to fetch exact city names\n# Join the dataframe result with dfq2 dataframe (as shown above)\n# created in the previous question to fetch the city names",
      "execution_count": null,
      "outputs": []
    },
    {
      "metadata": {},
      "cell_type": "markdown",
      "source": "<a id=\"q5\"></a>\n[Go Back](#home)\n## Question 5\n* Which day of the week is busiest in terms of traffic?\n* Please note : Total traffic = Total #arrivals + Total #departures"
    },
    {
      "metadata": {
        "trusted": true
      },
      "cell_type": "code",
      "source": "# type your code below\n",
      "execution_count": null,
      "outputs": []
    },
    {
      "metadata": {},
      "cell_type": "markdown",
      "source": "<a id=\"q6\"></a>\n[Go Back](#home)\n## Question 6 : "
    },
    {
      "metadata": {},
      "cell_type": "markdown",
      "source": "* Are weekends busier than weekdays?"
    },
    {
      "metadata": {
        "trusted": true
      },
      "cell_type": "code",
      "source": "# type your code below\n",
      "execution_count": null,
      "outputs": []
    },
    {
      "metadata": {},
      "cell_type": "markdown",
      "source": "<a id=\"q7\"></a>\n[Go Back](#home)\n## Question 7 :"
    },
    {
      "metadata": {},
      "cell_type": "markdown",
      "source": "* Longer duration flights have a larger tendency to have arrival delays. Analyze the hypothesis with appropriate visuals"
    },
    {
      "metadata": {
        "trusted": true
      },
      "cell_type": "code",
      "source": "# type your code below\nimport matplotlib.pyplot as plt",
      "execution_count": null,
      "outputs": []
    },
    {
      "metadata": {
        "trusted": true
      },
      "cell_type": "code",
      "source": "plt.scatter(dfq1.AirTime, dfq1.ArrDelay)",
      "execution_count": null,
      "outputs": []
    },
    {
      "metadata": {},
      "cell_type": "markdown",
      "source": "<a id=\"q8\"></a>\n[Go Back](#home)\n## Question 8 : "
    },
    {
      "metadata": {},
      "cell_type": "markdown",
      "source": "* Consider the below bucketing logic for \"Actual departure Time\" :\n    * Any flight departing between 4am - 12pm : Morning flight\n    * Any flight departing between 12pm - 4pm : Afternoon flight\n    * Any flight departing between 4pm - 9pm : Evening flight\n    * Any flight departing between 9pm - 4am : Night flight\n* Based on the above logic, answer the below questions : \n    * Which time of the day observes highest departure delays?\n    * Create a pivot table with time of day in rows and type of delay in columns and #of occurrences in values\n    * Which type of delay is most frequent in evening flights?\n    * Which airport sees the highest occurrences of security related delay in the morning?"
    },
    {
      "metadata": {
        "trusted": true
      },
      "cell_type": "code",
      "source": "# type your code below\n",
      "execution_count": null,
      "outputs": []
    },
    {
      "metadata": {},
      "cell_type": "markdown",
      "source": "<a id=\"q9\"></a>\n[Go Back](#home)\n## Question 9 :"
    },
    {
      "metadata": {},
      "cell_type": "markdown",
      "source": "* Consider the term \"delay\" as :\n    * Any flight arriving more than 15 min later than the expected arrival time is considered \"arrival delay\"\n    * Any flight departing more than 15 min later than the expected departure time is considered \"departure delay\"\n    * A flight is considered delayed when any one of the above conditions is true\n    * Based on the above, answer the below questions :\n        * Which airline carriers have caused the highest % of delays?\n        * Which airports are facing the highest % of delayed flights?"
    },
    {
      "metadata": {
        "trusted": true
      },
      "cell_type": "code",
      "source": "# type your code below\n",
      "execution_count": null,
      "outputs": []
    },
    {
      "metadata": {},
      "cell_type": "markdown",
      "source": "<a id=\"q10\"></a>\n[Go Back](#home)\n## Question : 10"
    },
    {
      "metadata": {},
      "cell_type": "markdown",
      "source": "* List down top 10 cities in terms of total traffic between June and September\n* Please note : Total traffic = Total #arrivals + Total #departures"
    },
    {
      "metadata": {
        "trusted": true
      },
      "cell_type": "code",
      "source": "# type your code below\n",
      "execution_count": null,
      "outputs": []
    }
  ],
  "metadata": {
    "kernelspec": {
      "name": "python3",
      "display_name": "Python 3",
      "language": "python"
    },
    "language_info": {
      "mimetype": "text/x-python",
      "nbconvert_exporter": "python",
      "name": "python",
      "pygments_lexer": "ipython3",
      "version": "3.5.4",
      "file_extension": ".py",
      "codemirror_mode": {
        "version": 3,
        "name": "ipython"
      }
    }
  },
  "nbformat": 4,
  "nbformat_minor": 1
}