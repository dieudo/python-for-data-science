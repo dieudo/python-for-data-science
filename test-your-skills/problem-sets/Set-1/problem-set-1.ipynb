{
 "cells": [
  {
   "cell_type": "markdown",
   "metadata": {},
   "source": [
    "# Python data manipulation exercise - Airline Performance Analysis"
   ]
  },
  {
   "cell_type": "markdown",
   "metadata": {},
   "source": [
    "## Problem\n",
    "\n",
    "Airlines are always run on tight schedules and very thin operating margins. To top this, the customers are extremely demanding expecting their flights to be on time always. Airline carriers try to overcome this challenge by detailed planning and prompt execution. However, there are factors like weather, technical glitches, unexpected challenges at airports which end up causing delay in arrival or departure of aircrafts. Since, the flights hop multiple cities any delay caused at one nodal city adds up and results in significant delays in subsequent stoppages if not taken care of early. \n",
    "\n",
    "## What is expected from you?\n",
    "You have been provided with 3 datasets : \n",
    "1. airline-performance.csv\n",
    "2. air-carrier-details.csv\n",
    "3. airports.csv\n",
    "\n",
    "Below are a set of questions of interest related to the problem statement at hand. Leverage your Python data wrangling skills to solve them"
   ]
  },
  {
   "cell_type": "markdown",
   "metadata": {},
   "source": [
    "## Questions :"
   ]
  },
  {
   "cell_type": "markdown",
   "metadata": {},
   "source": [
    "* Which airline carrier is busiest in terms of volume?"
   ]
  },
  {
   "cell_type": "code",
   "execution_count": null,
   "metadata": {},
   "outputs": [],
   "source": [
    "# type your code here\n"
   ]
  },
  {
   "cell_type": "markdown",
   "metadata": {},
   "source": [
    "* Which city is busiest in terms of traffic?\n",
    "    * Please note that you need to print out the city names against the traffic number and not just the airport name\n",
    "    * Ex. an airport name entry looks like : **New York, NY: John F Kennedy International**. The city name from this entry is **New York** "
   ]
  },
  {
   "cell_type": "code",
   "execution_count": 8,
   "metadata": {},
   "outputs": [],
   "source": [
    "# type your code below\n"
   ]
  },
  {
   "cell_type": "markdown",
   "metadata": {},
   "source": [
    "* Which carrier has got the highest air time?"
   ]
  },
  {
   "cell_type": "code",
   "execution_count": 9,
   "metadata": {},
   "outputs": [],
   "source": [
    "# type your code below\n"
   ]
  },
  {
   "cell_type": "markdown",
   "metadata": {},
   "source": [
    "* List top 5 cities which are busiest in terms of average flights handled per day for the month of June?"
   ]
  },
  {
   "cell_type": "code",
   "execution_count": 10,
   "metadata": {},
   "outputs": [],
   "source": [
    "# type your code below\n"
   ]
  },
  {
   "cell_type": "markdown",
   "metadata": {},
   "source": [
    "* Which day of the week is busiest in terms of traffic?\n",
    "* Please note : Total traffic = Total #arrivals + Total #departures"
   ]
  },
  {
   "cell_type": "code",
   "execution_count": 11,
   "metadata": {},
   "outputs": [],
   "source": [
    "# type your code below\n"
   ]
  },
  {
   "cell_type": "markdown",
   "metadata": {},
   "source": [
    "* Are weekends busier than weekdays?"
   ]
  },
  {
   "cell_type": "code",
   "execution_count": 12,
   "metadata": {},
   "outputs": [],
   "source": [
    "# type your code below\n"
   ]
  },
  {
   "cell_type": "markdown",
   "metadata": {},
   "source": [
    "* Longer duration flights have a larger tendency to have arrival delays. Analyze the hypothesis with appropriate visuals"
   ]
  },
  {
   "cell_type": "code",
   "execution_count": 13,
   "metadata": {},
   "outputs": [],
   "source": [
    "# type your code below\n"
   ]
  },
  {
   "cell_type": "markdown",
   "metadata": {},
   "source": [
    "* Consider the below bucketing logic for \"Actual departure Time\" :\n",
    "    * Any flight departing between 4am - 12pm : Morning flight\n",
    "    * Any flight departing between 12pm - 4pm : Afternoon flight\n",
    "    * Any flight departing between 4pm - 9pm : Evening flight\n",
    "    * Any flight departing between 9pm - 4am : Night flight\n",
    "* Based on the above logic, answer the below questions : \n",
    "    * Which time of the day observes highest departure delays?\n",
    "    * Create a pivot table with time of day in rows and type of delay in columns and #of occurrences in values\n",
    "    * Which type of delay is most frequent in evening flights?\n",
    "    * Which airport sees the highest occurrences of security related delay in the morning?"
   ]
  },
  {
   "cell_type": "code",
   "execution_count": 14,
   "metadata": {},
   "outputs": [],
   "source": [
    "# type your code below\n"
   ]
  },
  {
   "cell_type": "markdown",
   "metadata": {},
   "source": [
    "* Consider the term \"delay\" as :\n",
    "    * Any flight arriving more than 15 min later than the expected arrival time is considered \"arrival delay\"\n",
    "    * Any flight departing more than 15 min later than the expected departure time is considered \"departure delay\"\n",
    "    * A flight is considered delayed when any one of the above conditions is true\n",
    "    * Based on the above, answer the below questions :\n",
    "        * Which airline carriers have caused the highest % of delays?\n",
    "        * Which airports are facing the highest % of delayed flights?"
   ]
  },
  {
   "cell_type": "code",
   "execution_count": null,
   "metadata": {},
   "outputs": [],
   "source": [
    "# type your code below\n"
   ]
  },
  {
   "cell_type": "markdown",
   "metadata": {},
   "source": [
    "* List down top 10 cities in terms of total traffic between June and September\n",
    "* Please note : Total traffic = Total #arrivals + Total #departures"
   ]
  },
  {
   "cell_type": "code",
   "execution_count": 15,
   "metadata": {},
   "outputs": [],
   "source": [
    "# type your code below\n"
   ]
  }
 ],
 "metadata": {
  "kernelspec": {
   "display_name": "Python 3",
   "language": "python",
   "name": "python3"
  },
  "language_info": {
   "codemirror_mode": {
    "name": "ipython",
    "version": 3
   },
   "file_extension": ".py",
   "mimetype": "text/x-python",
   "name": "python",
   "nbconvert_exporter": "python",
   "pygments_lexer": "ipython3",
   "version": "3.7.3"
  }
 },
 "nbformat": 4,
 "nbformat_minor": 1
}
